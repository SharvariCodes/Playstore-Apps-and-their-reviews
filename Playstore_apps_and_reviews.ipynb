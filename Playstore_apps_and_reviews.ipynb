{
  "nbformat": 4,
  "nbformat_minor": 0,
  "metadata": {
    "colab": {
      "provenance": [],
      "authorship_tag": "ABX9TyNI98fJFX9hAYNnpF4+KAeB",
      "include_colab_link": true
    },
    "kernelspec": {
      "name": "python3",
      "display_name": "Python 3"
    },
    "language_info": {
      "name": "python"
    }
  },
  "cells": [
    {
      "cell_type": "markdown",
      "metadata": {
        "id": "view-in-github",
        "colab_type": "text"
      },
      "source": [
        "<a href=\"https://colab.research.google.com/github/SharvariCodes/Playstore-Apps-and-their-reviews/blob/main/Playstore_apps_and_reviews.ipynb\" target=\"_parent\"><img src=\"https://colab.research.google.com/assets/colab-badge.svg\" alt=\"Open In Colab\"/></a>"
      ]
    },
    {
      "cell_type": "markdown",
      "source": [
        "downloading files to be cleaned"
      ],
      "metadata": {
        "id": "p_pHwmrH_q3Q"
      }
    },
    {
      "cell_type": "code",
      "execution_count": 1,
      "metadata": {
        "colab": {
          "base_uri": "https://localhost:8080/"
        },
        "id": "kkKf9_aM_YMW",
        "outputId": "515efc3f-08d0-4a61-e8a1-a55e61e93c0e"
      },
      "outputs": [
        {
          "output_type": "stream",
          "name": "stdout",
          "text": [
            "/usr/local/lib/python3.8/dist-packages/gdown/cli.py:127: FutureWarning: Option `--id` was deprecated in version 4.3.1 and will be removed in 5.0. You don't need to pass it anymore to use a file ID.\n",
            "  warnings.warn(\n",
            "Downloading...\n",
            "From: https://drive.google.com/uc?id=1hTZTbKUn5XOJxrrbcIZ-xqadD2AT3nSg\n",
            "To: /content/playstore_reviews.csv\n",
            "100% 7.67M/7.67M [00:00<00:00, 39.8MB/s]\n"
          ]
        }
      ],
      "source": [
        "!gdown --id 1hTZTbKUn5XOJxrrbcIZ-xqadD2AT3nSg"
      ]
    },
    {
      "cell_type": "code",
      "source": [
        "!gdown --id 1rrkQgyLDICYKwmpdERKz8H-YiEkXqgUd"
      ],
      "metadata": {
        "colab": {
          "base_uri": "https://localhost:8080/"
        },
        "id": "99isEsM6_o34",
        "outputId": "e6c9881b-e037-474a-981b-56d22b5ac81b"
      },
      "execution_count": 2,
      "outputs": [
        {
          "output_type": "stream",
          "name": "stdout",
          "text": [
            "/usr/local/lib/python3.8/dist-packages/gdown/cli.py:127: FutureWarning: Option `--id` was deprecated in version 4.3.1 and will be removed in 5.0. You don't need to pass it anymore to use a file ID.\n",
            "  warnings.warn(\n",
            "Downloading...\n",
            "From: https://drive.google.com/uc?id=1rrkQgyLDICYKwmpdERKz8H-YiEkXqgUd\n",
            "To: /content/playstore_apps.csv\n",
            "100% 1.24M/1.24M [00:00<00:00, 126MB/s]\n"
          ]
        }
      ]
    },
    {
      "cell_type": "code",
      "source": [
        "import pandas as pd\n",
        "import numpy as np"
      ],
      "metadata": {
        "id": "yEi_1Gk9_yKx"
      },
      "execution_count": 3,
      "outputs": []
    },
    {
      "cell_type": "markdown",
      "source": [
        "reading the .csv files"
      ],
      "metadata": {
        "id": "SdfRImarBJoL"
      }
    },
    {
      "cell_type": "code",
      "source": [
        "apps = pd.read_csv('playstore_apps.csv',index_col = 'App')\n",
        "reviews = pd.read_csv('playstore_reviews.csv')"
      ],
      "metadata": {
        "id": "YMLbOJU3AEka"
      },
      "execution_count": 4,
      "outputs": []
    },
    {
      "cell_type": "markdown",
      "source": [
        "**1. subtask 1 : deleting the duplicates**"
      ],
      "metadata": {
        "id": "ZSbrcJ37BORG"
      }
    },
    {
      "cell_type": "markdown",
      "source": [
        "1. apps table"
      ],
      "metadata": {
        "id": "0g8UejsiB04n"
      }
    },
    {
      "cell_type": "code",
      "source": [
        "apps.shape"
      ],
      "metadata": {
        "colab": {
          "base_uri": "https://localhost:8080/"
        },
        "id": "v3PCzoHQBgTX",
        "outputId": "4377017d-5c76-4475-beaa-b4af2ea4dedf"
      },
      "execution_count": null,
      "outputs": [
        {
          "output_type": "execute_result",
          "data": {
            "text/plain": [
              "(10841, 12)"
            ]
          },
          "metadata": {},
          "execution_count": 25
        }
      ]
    },
    {
      "cell_type": "code",
      "source": [
        "apps.duplicated(keep='first')"
      ],
      "metadata": {
        "colab": {
          "base_uri": "https://localhost:8080/"
        },
        "id": "6djgrs_bBNT9",
        "outputId": "48e2bf05-0244-441c-911c-cbbcdc9db3aa"
      },
      "execution_count": null,
      "outputs": [
        {
          "output_type": "execute_result",
          "data": {
            "text/plain": [
              "App\n",
              "Photo Editor & Candy Camera & Grid & ScrapBook        False\n",
              "Coloring book moana                                   False\n",
              "U Launcher Lite – FREE Live Cool Themes, Hide Apps    False\n",
              "Sketch - Draw & Paint                                 False\n",
              "Pixel Draw - Number Art Coloring Book                 False\n",
              "                                                      ...  \n",
              "Sya9a Maroc - FR                                      False\n",
              "Fr. Mike Schmitz Audio Teachings                      False\n",
              "Parkinson Exercices FR                                False\n",
              "The SCP Foundation DB fr nn5n                         False\n",
              "iHoroscope - 2018 Daily Horoscope & Astrology         False\n",
              "Length: 10841, dtype: bool"
            ]
          },
          "metadata": {},
          "execution_count": 26
        }
      ]
    },
    {
      "cell_type": "code",
      "source": [
        "apps.drop_duplicates(keep='first', inplace=True)"
      ],
      "metadata": {
        "id": "x0BO-4d6Aiff"
      },
      "execution_count": null,
      "outputs": []
    },
    {
      "cell_type": "code",
      "source": [
        "apps.shape\n",
        "# duplicates dropped"
      ],
      "metadata": {
        "colab": {
          "base_uri": "https://localhost:8080/"
        },
        "id": "bO9i-NmcBqYe",
        "outputId": "c89508e3-90ff-492c-b795-5554f90f6271"
      },
      "execution_count": null,
      "outputs": [
        {
          "output_type": "execute_result",
          "data": {
            "text/plain": [
              "(10349, 12)"
            ]
          },
          "metadata": {},
          "execution_count": 28
        }
      ]
    },
    {
      "cell_type": "markdown",
      "source": [
        "2. reviews table"
      ],
      "metadata": {
        "id": "G4eFzvrbB5ow"
      }
    },
    {
      "cell_type": "code",
      "source": [
        "reviews.shape"
      ],
      "metadata": {
        "colab": {
          "base_uri": "https://localhost:8080/"
        },
        "id": "o7cy_7qJBtgg",
        "outputId": "60653700-6aa8-4d32-a03e-0e285b3d5341"
      },
      "execution_count": null,
      "outputs": [
        {
          "output_type": "execute_result",
          "data": {
            "text/plain": [
              "(37427, 5)"
            ]
          },
          "metadata": {},
          "execution_count": 29
        }
      ]
    },
    {
      "cell_type": "code",
      "source": [
        "reviews.duplicated(keep='first')"
      ],
      "metadata": {
        "colab": {
          "base_uri": "https://localhost:8080/"
        },
        "id": "BwRLoXPdCEFC",
        "outputId": "2a2b389f-9145-4701-a38f-fc0627ce687b"
      },
      "execution_count": null,
      "outputs": [
        {
          "output_type": "execute_result",
          "data": {
            "text/plain": [
              "0        False\n",
              "1        False\n",
              "2        False\n",
              "3        False\n",
              "4        False\n",
              "         ...  \n",
              "37422    False\n",
              "37423    False\n",
              "37424    False\n",
              "37425    False\n",
              "37426    False\n",
              "Length: 37427, dtype: bool"
            ]
          },
          "metadata": {},
          "execution_count": 30
        }
      ]
    },
    {
      "cell_type": "code",
      "source": [
        "reviews.drop_duplicates(keep='first', inplace=True)"
      ],
      "metadata": {
        "id": "-UiNlyNnCHWA"
      },
      "execution_count": null,
      "outputs": []
    },
    {
      "cell_type": "code",
      "source": [
        "reviews.shape"
      ],
      "metadata": {
        "colab": {
          "base_uri": "https://localhost:8080/"
        },
        "id": "t2YP0d4WCcUQ",
        "outputId": "00985d0e-4ae4-495b-dfb7-8e336930b8b9"
      },
      "execution_count": null,
      "outputs": [
        {
          "output_type": "execute_result",
          "data": {
            "text/plain": [
              "(29692, 5)"
            ]
          },
          "metadata": {},
          "execution_count": 32
        }
      ]
    },
    {
      "cell_type": "markdown",
      "source": [
        "**2. subtask 2 : deleting the rows containing irrelevant and null values**\n",
        "\n",
        "> Indented block\n",
        "\n"
      ],
      "metadata": {
        "id": "uKoDRkpjCj8G"
      }
    },
    {
      "cell_type": "markdown",
      "source": [
        "* apps table"
      ],
      "metadata": {
        "id": "nClTmhMqFjfO"
      }
    },
    {
      "cell_type": "markdown",
      "source": [
        "printing out unique values that are present to point out irrelevant values"
      ],
      "metadata": {
        "id": "7wzB7drjCzOe"
      }
    },
    {
      "cell_type": "code",
      "source": [
        "for i in apps:\n",
        "     print(f'\\n{i}')\n",
        "     print(apps[i].unique())"
      ],
      "metadata": {
        "colab": {
          "base_uri": "https://localhost:8080/"
        },
        "id": "iApx3KubCywM",
        "outputId": "58de3a9f-4707-45d5-c444-fd96618be1e3"
      },
      "execution_count": null,
      "outputs": [
        {
          "output_type": "stream",
          "name": "stdout",
          "text": [
            "\n",
            "Category\n",
            "['ART_AND_DESIGN' 'AUTO_AND_VEHICLES' 'BEAUTY' 'BOOKS_AND_REFERENCE'\n",
            " 'BUSINESS' 'COMICS' 'COMMUNICATION' 'DATING' 'EDUCATION' 'ENTERTAINMENT'\n",
            " 'EVENTS' 'FINANCE' 'FOOD_AND_DRINK' 'HEALTH_AND_FITNESS' 'HOUSE_AND_HOME'\n",
            " 'LIBRARIES_AND_DEMO' 'LIFESTYLE' 'GAME' 'FAMILY' 'MEDICAL' 'SOCIAL'\n",
            " 'SHOPPING' 'PHOTOGRAPHY' 'SPORTS' 'TRAVEL_AND_LOCAL' 'TOOLS'\n",
            " 'PERSONALIZATION' 'PRODUCTIVITY' 'PARENTING' 'WEATHER' 'VIDEO_PLAYERS'\n",
            " 'NEWS_AND_MAGAZINES' 'MAPS_AND_NAVIGATION' '1.9']\n",
            "\n",
            "Rating\n",
            "[ 4.1  3.9  4.7  4.5  4.3  4.4  3.8  4.2  4.6  3.2  4.   nan  4.8  4.9\n",
            "  3.6  3.7  3.3  3.4  3.5  3.1  5.   2.6  3.   1.9  2.5  2.8  2.7  1.\n",
            "  2.9  2.3  2.2  1.7  2.   1.8  2.4  1.6  2.1  1.4  1.5  1.2 19. ]\n",
            "\n",
            "Reviews\n",
            "[1.59000e+02 9.67000e+02 8.75100e+04 ... 6.03000e+02 1.19500e+03\n",
            " 3.98307e+05]\n",
            "\n",
            "Size\n",
            "['19M' '14M' '8.7M' '25M' '2.8M' '5.6M' '29M' '33M' '3.1M' '28M' '12M'\n",
            " '20M' '21M' '37M' '2.7M' '5.5M' '17M' '39M' '31M' '4.2M' '7.0M' '23M'\n",
            " '6.0M' '6.1M' '4.6M' '9.2M' '5.2M' '11M' '24M' 'Varies with device'\n",
            " '9.4M' '15M' '10M' '1.2M' '26M' '8.0M' '7.9M' '56M' '57M' '35M' '54M'\n",
            " '201k' '3.6M' '5.7M' '8.6M' '2.4M' '27M' '2.5M' '16M' '3.4M' '8.9M'\n",
            " '3.9M' '2.9M' '38M' '32M' '5.4M' '18M' '1.1M' '2.2M' '4.5M' '9.8M' '52M'\n",
            " '9.0M' '6.7M' '30M' '2.6M' '7.1M' '3.7M' '22M' '7.4M' '6.4M' '3.2M'\n",
            " '8.2M' '9.9M' '4.9M' '9.5M' '5.0M' '5.9M' '13M' '73M' '6.8M' '3.5M'\n",
            " '4.0M' '2.3M' '7.2M' '2.1M' '42M' '7.3M' '9.1M' '55M' '23k' '6.5M' '1.5M'\n",
            " '7.5M' '51M' '41M' '48M' '8.5M' '46M' '8.3M' '4.3M' '4.7M' '3.3M' '40M'\n",
            " '7.8M' '8.8M' '6.6M' '5.1M' '61M' '66M' '79k' '8.4M' '118k' '44M' '695k'\n",
            " '1.6M' '6.2M' '18k' '53M' '1.4M' '3.0M' '5.8M' '3.8M' '9.6M' '45M' '63M'\n",
            " '49M' '77M' '4.4M' '4.8M' '70M' '6.9M' '9.3M' '10.0M' '8.1M' '36M' '84M'\n",
            " '97M' '2.0M' '1.9M' '1.8M' '5.3M' '47M' '556k' '526k' '76M' '7.6M' '59M'\n",
            " '9.7M' '78M' '72M' '43M' '7.7M' '6.3M' '334k' '34M' '93M' '65M' '79M'\n",
            " '100M' '58M' '50M' '68M' '64M' '67M' '60M' '94M' '232k' '99M' '624k'\n",
            " '95M' '8.5k' '41k' '292k' '11k' '80M' '1.7M' '74M' '62M' '69M' '75M'\n",
            " '98M' '85M' '82M' '96M' '87M' '71M' '86M' '91M' '81M' '92M' '83M' '88M'\n",
            " '704k' '862k' '899k' '378k' '266k' '375k' '1.3M' '975k' '980k' '4.1M'\n",
            " '89M' '696k' '544k' '525k' '920k' '779k' '853k' '720k' '713k' '772k'\n",
            " '318k' '58k' '241k' '196k' '857k' '51k' '953k' '865k' '251k' '930k'\n",
            " '540k' '313k' '746k' '203k' '26k' '314k' '239k' '371k' '220k' '730k'\n",
            " '756k' '91k' '293k' '17k' '74k' '14k' '317k' '78k' '924k' '902k' '818k'\n",
            " '81k' '939k' '169k' '45k' '475k' '965k' '90M' '545k' '61k' '283k' '655k'\n",
            " '714k' '93k' '872k' '121k' '322k' '1.0M' '976k' '172k' '238k' '549k'\n",
            " '206k' '954k' '444k' '717k' '210k' '609k' '308k' '705k' '306k' '904k'\n",
            " '473k' '175k' '350k' '383k' '454k' '421k' '70k' '812k' '442k' '842k'\n",
            " '417k' '412k' '459k' '478k' '335k' '782k' '721k' '430k' '429k' '192k'\n",
            " '200k' '460k' '728k' '496k' '816k' '414k' '506k' '887k' '613k' '243k'\n",
            " '569k' '778k' '683k' '592k' '319k' '186k' '840k' '647k' '191k' '373k'\n",
            " '437k' '598k' '716k' '585k' '982k' '222k' '219k' '55k' '948k' '323k'\n",
            " '691k' '511k' '951k' '963k' '25k' '554k' '351k' '27k' '82k' '208k' '913k'\n",
            " '514k' '551k' '29k' '103k' '898k' '743k' '116k' '153k' '209k' '353k'\n",
            " '499k' '173k' '597k' '809k' '122k' '411k' '400k' '801k' '787k' '237k'\n",
            " '50k' '643k' '986k' '97k' '516k' '837k' '780k' '961k' '269k' '20k' '498k'\n",
            " '600k' '749k' '642k' '881k' '72k' '656k' '601k' '221k' '228k' '108k'\n",
            " '940k' '176k' '33k' '663k' '34k' '942k' '259k' '164k' '458k' '245k'\n",
            " '629k' '28k' '288k' '775k' '785k' '636k' '916k' '994k' '309k' '485k'\n",
            " '914k' '903k' '608k' '500k' '54k' '562k' '847k' '957k' '688k' '811k'\n",
            " '270k' '48k' '329k' '523k' '921k' '874k' '981k' '784k' '280k' '24k'\n",
            " '518k' '754k' '892k' '154k' '860k' '364k' '387k' '626k' '161k' '879k'\n",
            " '39k' '970k' '170k' '141k' '160k' '144k' '143k' '190k' '376k' '193k'\n",
            " '246k' '73k' '658k' '992k' '253k' '420k' '404k' '1,000+' '470k' '226k'\n",
            " '240k' '89k' '234k' '257k' '861k' '467k' '157k' '44k' '676k' '67k' '552k'\n",
            " '885k' '1020k' '582k' '619k']\n",
            "\n",
            "Installs\n",
            "[1.e+04 5.e+05 5.e+06 5.e+07 1.e+05 5.e+04 1.e+06 1.e+07 5.e+03 1.e+08\n",
            " 1.e+09 1.e+03 5.e+08 5.e+01 1.e+02 5.e+02 1.e+01 1.e+00 5.e+00 0.e+00\n",
            "    nan]\n",
            "\n",
            "Type\n",
            "['Free' 'Paid' nan '0']\n",
            "\n",
            "Price\n",
            "[  0.     4.99   3.99   6.99   1.49   2.99   7.99   5.99   3.49   1.99\n",
            "   9.99   7.49   0.99   9.     5.49  10.    24.99  11.99  79.99  16.99\n",
            "  14.99   1.    29.99  12.99   2.49  10.99   1.5   19.99  15.99  33.99\n",
            "  74.99  39.99   3.95   4.49   1.7    8.99   2.     3.88  25.99 399.99\n",
            "  17.99 400.     3.02   1.76   4.84   4.77   1.61   2.5    1.59   6.49\n",
            "   1.29   5.    13.99 299.99 379.99  37.99  18.99 389.99  19.9    8.49\n",
            "   1.75  14.     4.85  46.99 109.99 154.99   3.08   2.59   4.8    1.96\n",
            "  19.4    3.9    4.59  15.46   3.04   4.29   2.6    3.28   4.6   28.99\n",
            "   2.95   2.9    1.97 200.    89.99   2.56  30.99   3.61 394.99   1.26\n",
            "    nan   1.2    1.04]\n",
            "\n",
            "Content Rating\n",
            "['Everyone' 'Teen' 'Everyone 10+' 'Mature 17+' 'Adults only 18+' 'Unrated'\n",
            " nan]\n",
            "\n",
            "Genres\n",
            "['Art & Design' 'Art & Design;Pretend Play' 'Art & Design;Creativity'\n",
            " 'Art & Design;Action & Adventure' 'Auto & Vehicles' 'Beauty'\n",
            " 'Books & Reference' 'Business' 'Comics' 'Comics;Creativity'\n",
            " 'Communication' 'Dating' 'Education;Education' 'Education'\n",
            " 'Education;Creativity' 'Education;Music & Video'\n",
            " 'Education;Action & Adventure' 'Education;Pretend Play'\n",
            " 'Education;Brain Games' 'Entertainment' 'Entertainment;Music & Video'\n",
            " 'Entertainment;Brain Games' 'Entertainment;Creativity' 'Events' 'Finance'\n",
            " 'Food & Drink' 'Health & Fitness' 'House & Home' 'Libraries & Demo'\n",
            " 'Lifestyle' 'Lifestyle;Pretend Play' 'Adventure;Action & Adventure'\n",
            " 'Arcade' 'Casual' 'Card' 'Casual;Pretend Play' 'Action' 'Strategy'\n",
            " 'Puzzle' 'Sports' 'Music' 'Word' 'Racing' 'Casual;Creativity'\n",
            " 'Casual;Action & Adventure' 'Simulation' 'Adventure' 'Board' 'Trivia'\n",
            " 'Role Playing' 'Simulation;Education' 'Action;Action & Adventure'\n",
            " 'Casual;Brain Games' 'Simulation;Action & Adventure'\n",
            " 'Educational;Creativity' 'Puzzle;Brain Games' 'Educational;Education'\n",
            " 'Card;Brain Games' 'Educational;Brain Games' 'Educational;Pretend Play'\n",
            " 'Entertainment;Education' 'Casual;Education' 'Music;Music & Video'\n",
            " 'Racing;Action & Adventure' 'Arcade;Pretend Play'\n",
            " 'Role Playing;Action & Adventure' 'Simulation;Pretend Play'\n",
            " 'Puzzle;Creativity' 'Sports;Action & Adventure'\n",
            " 'Educational;Action & Adventure' 'Arcade;Action & Adventure'\n",
            " 'Entertainment;Action & Adventure' 'Puzzle;Action & Adventure'\n",
            " 'Strategy;Action & Adventure' 'Music & Audio;Music & Video'\n",
            " 'Health & Fitness;Education' 'Adventure;Education' 'Board;Brain Games'\n",
            " 'Board;Action & Adventure' 'Board;Pretend Play' 'Casual;Music & Video'\n",
            " 'Role Playing;Pretend Play' 'Entertainment;Pretend Play'\n",
            " 'Video Players & Editors;Creativity' 'Card;Action & Adventure' 'Medical'\n",
            " 'Social' 'Shopping' 'Photography' 'Travel & Local'\n",
            " 'Travel & Local;Action & Adventure' 'Tools' 'Tools;Education'\n",
            " 'Personalization' 'Productivity' 'Parenting' 'Parenting;Music & Video'\n",
            " 'Parenting;Education' 'Parenting;Brain Games' 'Weather'\n",
            " 'Video Players & Editors' 'Video Players & Editors;Music & Video'\n",
            " 'News & Magazines' 'Maps & Navigation'\n",
            " 'Health & Fitness;Action & Adventure' 'Educational' 'Casino'\n",
            " 'Adventure;Brain Games' 'Trivia;Education' 'Lifestyle;Education'\n",
            " 'Books & Reference;Creativity' 'Books & Reference;Education'\n",
            " 'Puzzle;Education' 'Role Playing;Education' 'Role Playing;Brain Games'\n",
            " 'Strategy;Education' 'Racing;Pretend Play' 'Communication;Creativity'\n",
            " 'February 11, 2018' 'Strategy;Creativity']\n",
            "\n",
            "Last Updated\n",
            "['07-01-2018' '15-01-2018' '01-08-2018' ... '20-01-2014' '16-02-2014'\n",
            " '23-03-2014']\n",
            "\n",
            "Current Ver\n",
            "['1.0.0' '2.0.0' '1.2.4' ... '1.0.612928' '0.3.4' '2.0.148.0']\n",
            "\n",
            "Android Ver\n",
            "['4.0.3 and up' '4.2 and up' '4.4 and up' '2.3 and up' '3.0 and up'\n",
            " '4.1 and up' '4.0 and up' '2.3.3 and up' 'Varies with device'\n",
            " '2.2 and up' '5.0 and up' '6.0 and up' '1.6 and up' '1.5 and up'\n",
            " '2.1 and up' '7.0 and up' '5.1 and up' '4.3 and up' '4.0.3 - 7.1.1'\n",
            " '2.0 and up' '3.2 and up' '4.4W and up' '7.1 and up' '7.0 - 7.1.1'\n",
            " '8.0 and up' '5.0 - 8.0' '3.1 and up' '2.0.1 and up' '4.1 - 7.1.1' nan\n",
            " '5.0 - 6.0' '1.0 and up' '2.2 - 7.1.1' '5.0 - 7.1.1']\n"
          ]
        }
      ]
    },
    {
      "cell_type": "markdown",
      "source": [
        "i. deleting irrelevant values from all the columns"
      ],
      "metadata": {
        "id": "BlT4C8lwLbIa"
      }
    },
    {
      "cell_type": "markdown",
      "source": [
        "i) Cateogry"
      ],
      "metadata": {
        "id": "NcapNRK9MDtY"
      }
    },
    {
      "cell_type": "code",
      "source": [
        "apps['Category'][apps['Category']=='1.9']"
      ],
      "metadata": {
        "colab": {
          "base_uri": "https://localhost:8080/"
        },
        "id": "Q5f1pqIrLgpz",
        "outputId": "3c05c0f8-1192-447b-84fa-15615ef5c96d"
      },
      "execution_count": null,
      "outputs": [
        {
          "output_type": "execute_result",
          "data": {
            "text/plain": [
              "App\n",
              "Life Made WI-Fi Touchscreen Photo Frame    1.9\n",
              "Name: Category, dtype: object"
            ]
          },
          "metadata": {},
          "execution_count": 33
        }
      ]
    },
    {
      "cell_type": "code",
      "source": [
        "dropping_idx = (apps['Category'][apps['Category']=='1.9']).index"
      ],
      "metadata": {
        "id": "R4eidgGIMebo"
      },
      "execution_count": null,
      "outputs": []
    },
    {
      "cell_type": "code",
      "source": [
        "apps = apps.drop(axis=0, index= dropping_idx)"
      ],
      "metadata": {
        "id": "xYxOEWJ3MkDO"
      },
      "execution_count": null,
      "outputs": []
    },
    {
      "cell_type": "code",
      "source": [
        "apps.shape"
      ],
      "metadata": {
        "colab": {
          "base_uri": "https://localhost:8080/"
        },
        "id": "_76fucDYM8Cf",
        "outputId": "5a949b06-e5b2-40c0-d0e9-ef01dc87a76e"
      },
      "execution_count": null,
      "outputs": [
        {
          "output_type": "execute_result",
          "data": {
            "text/plain": [
              "(10348, 12)"
            ]
          },
          "metadata": {},
          "execution_count": 36
        }
      ]
    },
    {
      "cell_type": "markdown",
      "source": [
        "ii) Rating"
      ],
      "metadata": {
        "id": "ZHaIPKVANFiw"
      }
    },
    {
      "cell_type": "code",
      "source": [
        "apps['Rating'][apps['Rating']== 19.0]"
      ],
      "metadata": {
        "colab": {
          "base_uri": "https://localhost:8080/"
        },
        "id": "7q-sI92fNJlp",
        "outputId": "247fe834-021e-491a-e8a7-cce695ca59c2"
      },
      "execution_count": null,
      "outputs": [
        {
          "output_type": "execute_result",
          "data": {
            "text/plain": [
              "Series([], Name: Rating, dtype: float64)"
            ]
          },
          "metadata": {},
          "execution_count": 37
        }
      ]
    },
    {
      "cell_type": "markdown",
      "source": [
        "iii) Size"
      ],
      "metadata": {
        "id": "onV8DpE1NzPU"
      }
    },
    {
      "cell_type": "code",
      "source": [
        "apps['Size'][apps['Size']== '1,000+']"
      ],
      "metadata": {
        "colab": {
          "base_uri": "https://localhost:8080/"
        },
        "id": "L3BkNWmHN5tY",
        "outputId": "91f42c9f-8e04-40ff-e876-0bcc94358162"
      },
      "execution_count": null,
      "outputs": [
        {
          "output_type": "execute_result",
          "data": {
            "text/plain": [
              "Series([], Name: Size, dtype: object)"
            ]
          },
          "metadata": {},
          "execution_count": 38
        }
      ]
    },
    {
      "cell_type": "markdown",
      "source": [
        "iv) Genres"
      ],
      "metadata": {
        "id": "P3VqjlmaOlYK"
      }
    },
    {
      "cell_type": "code",
      "source": [
        "apps['Genres'][apps['Genres']=='Communication;Creativity']"
      ],
      "metadata": {
        "colab": {
          "base_uri": "https://localhost:8080/"
        },
        "id": "mTM4423VOrZD",
        "outputId": "03d99043-3868-4a2c-9b51-0c5bec80be47"
      },
      "execution_count": null,
      "outputs": [
        {
          "output_type": "execute_result",
          "data": {
            "text/plain": [
              "App\n",
              "Messenger Kids – Safer Messaging and Video Chat    Communication;Creativity\n",
              "Name: Genres, dtype: object"
            ]
          },
          "metadata": {},
          "execution_count": 39
        }
      ]
    },
    {
      "cell_type": "markdown",
      "source": [
        "ii. deleting all rows containing nan values "
      ],
      "metadata": {
        "id": "tDRjJH6SEhcv"
      }
    },
    {
      "cell_type": "code",
      "source": [
        "apps.isna().sum()"
      ],
      "metadata": {
        "colab": {
          "base_uri": "https://localhost:8080/"
        },
        "id": "Qsb66KR4Ceyb",
        "outputId": "3199c222-ff34-4e19-a7ba-b908a33e4d22"
      },
      "execution_count": null,
      "outputs": [
        {
          "output_type": "execute_result",
          "data": {
            "text/plain": [
              "Category             0\n",
              "Rating            1458\n",
              "Reviews              0\n",
              "Size                 0\n",
              "Installs             0\n",
              "Type                 1\n",
              "Price                0\n",
              "Content Rating       0\n",
              "Genres               0\n",
              "Last Updated         0\n",
              "Current Ver          8\n",
              "Android Ver          2\n",
              "dtype: int64"
            ]
          },
          "metadata": {},
          "execution_count": 40
        }
      ]
    },
    {
      "cell_type": "code",
      "source": [
        "apps = apps.dropna(axis=0)"
      ],
      "metadata": {
        "id": "h2Tu7gDiFZSb"
      },
      "execution_count": null,
      "outputs": []
    },
    {
      "cell_type": "code",
      "source": [
        "apps.shape"
      ],
      "metadata": {
        "colab": {
          "base_uri": "https://localhost:8080/"
        },
        "id": "fhBZbwe5FuKc",
        "outputId": "9de830f2-c0cb-4cb1-91b4-2905cd85a242"
      },
      "execution_count": null,
      "outputs": [
        {
          "output_type": "execute_result",
          "data": {
            "text/plain": [
              "(8884, 12)"
            ]
          },
          "metadata": {},
          "execution_count": 42
        }
      ]
    },
    {
      "cell_type": "code",
      "source": [
        "apps.isna().sum()"
      ],
      "metadata": {
        "colab": {
          "base_uri": "https://localhost:8080/"
        },
        "id": "NMkFq3nlF7D9",
        "outputId": "c9fec78e-f692-492a-bc12-6bb7abca62b8"
      },
      "execution_count": null,
      "outputs": [
        {
          "output_type": "execute_result",
          "data": {
            "text/plain": [
              "Category          0\n",
              "Rating            0\n",
              "Reviews           0\n",
              "Size              0\n",
              "Installs          0\n",
              "Type              0\n",
              "Price             0\n",
              "Content Rating    0\n",
              "Genres            0\n",
              "Last Updated      0\n",
              "Current Ver       0\n",
              "Android Ver       0\n",
              "dtype: int64"
            ]
          },
          "metadata": {},
          "execution_count": 43
        }
      ]
    },
    {
      "cell_type": "code",
      "source": [
        "for i in apps:\n",
        "     print(f'\\n{i}')\n",
        "     print(apps[i].unique())"
      ],
      "metadata": {
        "colab": {
          "base_uri": "https://localhost:8080/"
        },
        "id": "1vtUrK0BGPx-",
        "outputId": "3e7934f4-3a0c-4abb-ae73-b1ab3d68e098"
      },
      "execution_count": null,
      "outputs": [
        {
          "output_type": "stream",
          "name": "stdout",
          "text": [
            "\n",
            "Category\n",
            "['ART_AND_DESIGN' 'AUTO_AND_VEHICLES' 'BEAUTY' 'BOOKS_AND_REFERENCE'\n",
            " 'BUSINESS' 'COMICS' 'COMMUNICATION' 'DATING' 'EDUCATION' 'ENTERTAINMENT'\n",
            " 'EVENTS' 'FINANCE' 'FOOD_AND_DRINK' 'HEALTH_AND_FITNESS' 'HOUSE_AND_HOME'\n",
            " 'LIBRARIES_AND_DEMO' 'LIFESTYLE' 'GAME' 'FAMILY' 'MEDICAL' 'SOCIAL'\n",
            " 'SHOPPING' 'PHOTOGRAPHY' 'SPORTS' 'TRAVEL_AND_LOCAL' 'TOOLS'\n",
            " 'PERSONALIZATION' 'PRODUCTIVITY' 'PARENTING' 'WEATHER' 'VIDEO_PLAYERS'\n",
            " 'NEWS_AND_MAGAZINES' 'MAPS_AND_NAVIGATION']\n",
            "\n",
            "Rating\n",
            "[4.1 3.9 4.7 4.5 4.3 4.4 3.8 4.2 4.6 4.  4.8 4.9 3.6 3.7 3.2 3.3 3.4 3.5\n",
            " 3.1 5.  2.6 3.  1.9 2.5 2.8 2.7 1.  2.9 2.3 2.2 1.7 2.  1.8 2.4 1.6 2.1\n",
            " 1.4 1.5 1.2]\n",
            "\n",
            "Reviews\n",
            "[1.59000e+02 9.67000e+02 8.75100e+04 ... 6.03000e+02 1.19500e+03\n",
            " 3.98307e+05]\n",
            "\n",
            "Size\n",
            "['19M' '14M' '8.7M' '25M' '2.8M' '5.6M' '29M' '33M' '3.1M' '28M' '12M'\n",
            " '20M' '21M' '37M' '5.5M' '17M' '39M' '31M' '4.2M' '23M' '6.0M' '6.1M'\n",
            " '4.6M' '9.2M' '5.2M' '11M' '24M' 'Varies with device' '9.4M' '15M' '10M'\n",
            " '1.2M' '26M' '8.0M' '7.9M' '56M' '57M' '35M' '54M' '201k' '3.6M' '5.7M'\n",
            " '8.6M' '2.4M' '27M' '2.7M' '2.5M' '7.0M' '16M' '3.4M' '8.9M' '3.9M'\n",
            " '2.9M' '38M' '32M' '5.4M' '18M' '1.1M' '2.2M' '4.5M' '9.8M' '52M' '9.0M'\n",
            " '6.7M' '30M' '2.6M' '7.1M' '22M' '6.4M' '3.2M' '8.2M' '4.9M' '9.5M'\n",
            " '5.0M' '5.9M' '13M' '73M' '6.8M' '3.5M' '4.0M' '2.3M' '2.1M' '42M' '9.1M'\n",
            " '55M' '23k' '7.3M' '6.5M' '1.5M' '7.5M' '51M' '41M' '48M' '8.5M' '46M'\n",
            " '8.3M' '4.3M' '4.7M' '3.3M' '40M' '7.8M' '8.8M' '6.6M' '5.1M' '61M' '66M'\n",
            " '79k' '8.4M' '3.7M' '118k' '44M' '695k' '1.6M' '6.2M' '53M' '1.4M' '3.0M'\n",
            " '7.2M' '5.8M' '3.8M' '9.6M' '45M' '63M' '49M' '77M' '4.4M' '70M' '9.3M'\n",
            " '8.1M' '36M' '6.9M' '7.4M' '84M' '97M' '2.0M' '1.9M' '1.8M' '5.3M' '47M'\n",
            " '556k' '526k' '76M' '7.6M' '59M' '9.7M' '78M' '72M' '43M' '7.7M' '6.3M'\n",
            " '334k' '93M' '65M' '79M' '100M' '58M' '50M' '68M' '64M' '34M' '67M' '60M'\n",
            " '94M' '9.9M' '232k' '99M' '624k' '95M' '8.5k' '41k' '292k' '80M' '1.7M'\n",
            " '10.0M' '74M' '62M' '69M' '75M' '98M' '85M' '82M' '96M' '87M' '71M' '86M'\n",
            " '91M' '81M' '92M' '83M' '88M' '704k' '862k' '899k' '378k' '4.8M' '266k'\n",
            " '375k' '1.3M' '975k' '980k' '4.1M' '89M' '696k' '544k' '525k' '920k'\n",
            " '779k' '853k' '720k' '713k' '772k' '318k' '58k' '241k' '196k' '857k'\n",
            " '51k' '953k' '865k' '251k' '930k' '540k' '313k' '746k' '203k' '26k'\n",
            " '314k' '239k' '371k' '220k' '730k' '756k' '91k' '293k' '17k' '74k' '14k'\n",
            " '317k' '78k' '924k' '818k' '81k' '939k' '169k' '45k' '965k' '90M' '545k'\n",
            " '61k' '283k' '655k' '714k' '93k' '872k' '121k' '322k' '976k' '206k'\n",
            " '954k' '444k' '717k' '210k' '609k' '308k' '306k' '175k' '350k' '383k'\n",
            " '454k' '1.0M' '70k' '812k' '442k' '842k' '417k' '412k' '459k' '478k'\n",
            " '335k' '782k' '721k' '430k' '429k' '192k' '460k' '728k' '496k' '816k'\n",
            " '414k' '506k' '887k' '613k' '778k' '683k' '592k' '186k' '840k' '647k'\n",
            " '373k' '437k' '598k' '716k' '585k' '982k' '219k' '55k' '323k' '691k'\n",
            " '511k' '951k' '963k' '25k' '554k' '351k' '27k' '82k' '208k' '551k' '29k'\n",
            " '103k' '116k' '153k' '209k' '499k' '173k' '597k' '809k' '122k' '411k'\n",
            " '400k' '801k' '787k' '50k' '643k' '986k' '516k' '837k' '780k' '20k'\n",
            " '498k' '600k' '656k' '221k' '228k' '176k' '34k' '259k' '164k' '458k'\n",
            " '629k' '28k' '288k' '775k' '785k' '636k' '916k' '994k' '309k' '485k'\n",
            " '914k' '903k' '608k' '500k' '54k' '562k' '847k' '948k' '811k' '270k'\n",
            " '48k' '523k' '784k' '280k' '24k' '892k' '154k' '18k' '33k' '860k' '364k'\n",
            " '387k' '626k' '161k' '879k' '39k' '170k' '141k' '160k' '144k' '143k'\n",
            " '190k' '376k' '193k' '473k' '246k' '73k' '253k' '957k' '420k' '72k'\n",
            " '404k' '470k' '226k' '240k' '89k' '234k' '257k' '861k' '467k' '676k'\n",
            " '552k' '582k' '619k']\n",
            "\n",
            "Installs\n",
            "[1.e+04 5.e+05 5.e+06 5.e+07 1.e+05 5.e+04 1.e+06 1.e+07 5.e+03 1.e+08\n",
            " 1.e+09 1.e+03 5.e+08 1.e+02 5.e+02 1.e+01 5.e+00 5.e+01 1.e+00]\n",
            "\n",
            "Type\n",
            "['Free' 'Paid']\n",
            "\n",
            "Price\n",
            "[  0.     4.99   3.99   6.99   7.99   5.99   2.99   3.49   1.99   9.99\n",
            "   7.49   0.99   9.     5.49  10.    24.99  11.99  79.99  16.99  14.99\n",
            "  29.99  12.99   2.49  10.99   1.5   19.99  15.99  33.99  39.99   3.95\n",
            "   4.49   1.7    8.99   1.49   3.88 399.99  17.99 400.     3.02   1.76\n",
            "   4.84   4.77   1.61   2.5    1.59   6.49   1.29 299.99 379.99  37.99\n",
            "  18.99 389.99   8.49   1.75  14.     2.     3.08   2.59  19.4    3.9\n",
            "   4.59  15.46   3.04  13.99   4.29   3.28   4.6    1.     2.95   2.9\n",
            "   1.97   2.56   1.2 ]\n",
            "\n",
            "Content Rating\n",
            "['Everyone' 'Teen' 'Everyone 10+' 'Mature 17+' 'Adults only 18+' 'Unrated']\n",
            "\n",
            "Genres\n",
            "['Art & Design' 'Art & Design;Pretend Play' 'Art & Design;Creativity'\n",
            " 'Auto & Vehicles' 'Beauty' 'Books & Reference' 'Business' 'Comics'\n",
            " 'Comics;Creativity' 'Communication' 'Dating' 'Education;Education'\n",
            " 'Education' 'Education;Creativity' 'Education;Music & Video'\n",
            " 'Education;Action & Adventure' 'Education;Pretend Play'\n",
            " 'Education;Brain Games' 'Entertainment' 'Entertainment;Music & Video'\n",
            " 'Entertainment;Brain Games' 'Entertainment;Creativity' 'Events' 'Finance'\n",
            " 'Food & Drink' 'Health & Fitness' 'House & Home' 'Libraries & Demo'\n",
            " 'Lifestyle' 'Lifestyle;Pretend Play' 'Adventure;Action & Adventure'\n",
            " 'Arcade' 'Casual' 'Card' 'Casual;Pretend Play' 'Action' 'Strategy'\n",
            " 'Puzzle' 'Sports' 'Music' 'Word' 'Racing' 'Casual;Creativity'\n",
            " 'Casual;Action & Adventure' 'Simulation' 'Adventure' 'Board' 'Trivia'\n",
            " 'Role Playing' 'Simulation;Education' 'Action;Action & Adventure'\n",
            " 'Casual;Brain Games' 'Simulation;Action & Adventure'\n",
            " 'Educational;Creativity' 'Puzzle;Brain Games' 'Educational;Education'\n",
            " 'Card;Brain Games' 'Educational;Brain Games' 'Educational;Pretend Play'\n",
            " 'Entertainment;Education' 'Casual;Education' 'Music;Music & Video'\n",
            " 'Racing;Action & Adventure' 'Arcade;Pretend Play'\n",
            " 'Role Playing;Action & Adventure' 'Simulation;Pretend Play'\n",
            " 'Puzzle;Creativity' 'Sports;Action & Adventure'\n",
            " 'Educational;Action & Adventure' 'Arcade;Action & Adventure'\n",
            " 'Entertainment;Action & Adventure' 'Puzzle;Action & Adventure'\n",
            " 'Strategy;Action & Adventure' 'Music & Audio;Music & Video'\n",
            " 'Health & Fitness;Education' 'Adventure;Education' 'Board;Brain Games'\n",
            " 'Board;Action & Adventure' 'Board;Pretend Play' 'Casual;Music & Video'\n",
            " 'Role Playing;Pretend Play' 'Entertainment;Pretend Play'\n",
            " 'Video Players & Editors;Creativity' 'Card;Action & Adventure' 'Medical'\n",
            " 'Social' 'Shopping' 'Photography' 'Travel & Local'\n",
            " 'Travel & Local;Action & Adventure' 'Tools' 'Tools;Education'\n",
            " 'Personalization' 'Productivity' 'Parenting' 'Parenting;Music & Video'\n",
            " 'Parenting;Brain Games' 'Parenting;Education' 'Weather'\n",
            " 'Video Players & Editors' 'Video Players & Editors;Music & Video'\n",
            " 'News & Magazines' 'Maps & Navigation'\n",
            " 'Health & Fitness;Action & Adventure' 'Educational' 'Casino'\n",
            " 'Adventure;Brain Games' 'Lifestyle;Education'\n",
            " 'Books & Reference;Education' 'Puzzle;Education'\n",
            " 'Role Playing;Brain Games' 'Strategy;Education' 'Racing;Pretend Play'\n",
            " 'Communication;Creativity' 'Strategy;Creativity']\n",
            "\n",
            "Last Updated\n",
            "['07-01-2018' '15-01-2018' '01-08-2018' ... '20-01-2014' '16-02-2014'\n",
            " '23-03-2014']\n",
            "\n",
            "Current Ver\n",
            "['1.0.0' '2.0.0' '1.2.4' ... '1.5.447' '1.0.612928' '0.3.4']\n",
            "\n",
            "Android Ver\n",
            "['4.0.3 and up' '4.2 and up' '4.4 and up' '2.3 and up' '3.0 and up'\n",
            " '4.1 and up' '4.0 and up' '2.3.3 and up' 'Varies with device'\n",
            " '2.2 and up' '5.0 and up' '6.0 and up' '1.6 and up' '1.5 and up'\n",
            " '2.1 and up' '7.0 and up' '4.3 and up' '4.0.3 - 7.1.1' '2.0 and up'\n",
            " '3.2 and up' '4.4W and up' '5.1 and up' '7.1 and up' '7.0 - 7.1.1'\n",
            " '8.0 and up' '5.0 - 8.0' '3.1 and up' '2.0.1 and up' '4.1 - 7.1.1'\n",
            " '5.0 - 6.0' '1.0 and up']\n"
          ]
        }
      ]
    },
    {
      "cell_type": "code",
      "source": [
        "(apps['Category'][apps['Category']=='1.9']).index"
      ],
      "metadata": {
        "colab": {
          "base_uri": "https://localhost:8080/"
        },
        "id": "YtqAgwKyGZWW",
        "outputId": "8544ac8c-2a29-4fbe-abdb-4cb112745108"
      },
      "execution_count": null,
      "outputs": [
        {
          "output_type": "execute_result",
          "data": {
            "text/plain": [
              "Index([], dtype='object', name='App')"
            ]
          },
          "metadata": {},
          "execution_count": 45
        }
      ]
    },
    {
      "cell_type": "markdown",
      "source": [
        "* reviews table"
      ],
      "metadata": {
        "id": "rgb4Oih6MkVc"
      }
    },
    {
      "cell_type": "markdown",
      "source": [
        "printing out unique values that are present to point out irrelevant values"
      ],
      "metadata": {
        "id": "6gXmbwxVM8B4"
      }
    },
    {
      "cell_type": "code",
      "source": [
        "for i in reviews:\n",
        "     print(f'\\n{i}')\n",
        "     print(reviews[i].unique())"
      ],
      "metadata": {
        "colab": {
          "base_uri": "https://localhost:8080/"
        },
        "id": "nNzqnv-0JJZ7",
        "outputId": "b70cf1be-f322-4348-8e04-2b7ab7ca5819"
      },
      "execution_count": null,
      "outputs": [
        {
          "output_type": "stream",
          "name": "stdout",
          "text": [
            "\n",
            "App\n",
            "['10 Best Foods for You' '104 找工作 - 找工作 找打工 找兼職 履歷健檢 履歷診療室' '11st'\n",
            " '1800 Contacts - Lens Store' '1LINE – One Line with One Touch'\n",
            " '2018Emoji Keyboard 😂 Emoticons Lite -sticker&gif'\n",
            " '21-Day Meditation Experience' '2Date Dating App, Love and matching'\n",
            " '2GIS: directory & navigator' '2RedBeans' '2ndLine - Second Phone Number'\n",
            " '30 Day Fitness Challenge - Workout at Home' '365Scores - Live Scores'\n",
            " '3D Live Neon Weed Launcher' '4 in a Row'\n",
            " '4K Wallpapers and Ultra HD Backgrounds'\n",
            " '591房屋交易-租屋、中古屋、新建案、實價登錄、別墅透天、公寓套房、捷運、買房賣房行情、房價房貸查詢' '591房屋交易-香港'\n",
            " '7 Cups: Anxiety & Stress Chat' '7 Day Food Journal Challenge'\n",
            " '7 Minute Workout' '7 Weeks - Habit & Goal Tracker' '8 Ball Pool'\n",
            " '850 Sports News Digest' '8fit Workouts & Meal Planner'\n",
            " '95Live -SG#1 Live Streaming App' 'A Call From Santa Claus!'\n",
            " 'A Word A Day' 'A&E - Watch Full Episodes of TV Shows'\n",
            " 'A+ Gallery - Photos & Videos' 'A+ Mobile' 'ABC Kids - Tracing & Phonics'\n",
            " 'ABC News - US & World News' 'ABC Preschool Free' 'ABCmouse.com'\n",
            " 'AC - Tips & News for Android™' 'ACE Elite'\n",
            " 'AD - Nieuws, Sport, Regio & Entertainment' 'AMC Theatres' 'ANA'\n",
            " 'AOL - News, Mail & Video' 'AP Mobile - Breaking News'\n",
            " 'APE Weather ( Live Forecast)'\n",
            " 'APUS Launcher - Theme, Wallpaper, Hide Apps' 'ARY NEWS' 'ARY NEWS URDU'\n",
            " 'ASOS' 'ASUS Calling Screen' 'ASUS Cover for ZenFone 2' 'ASUS Quick Memo'\n",
            " 'ASUS Sound Recorder' 'ASUS SuperNote' 'AT&T Navigator: Maps, Traffic'\n",
            " 'AT&T Smart Wi-Fi' 'AT&T Visual Voicemail'\n",
            " 'AVG Cleaner – Speed, Battery & Memory Booster'\n",
            " 'Abs Training-Burn belly fat' 'Account Manager'\n",
            " 'Accounting App - Zoho Books'\n",
            " 'AccuWeather: Daily Forecast & Live Weather Reports'\n",
            " 'Acorn TV: World-class TV from Britain and Beyond'\n",
            " 'Acorns - Invest Spare Change' 'AdWords Express'\n",
            " 'Ada - Your Health Guide' 'Add Text To Photo' 'Adobe Acrobat Reader'\n",
            " 'Adobe Photoshop Express:Photo Editor Collage Maker'\n",
            " 'Advanced Task Killer' 'Agar.io' 'Age Calculator'\n",
            " 'Agoda – Hotel Booking Deals' 'Air Traffic' 'AirAsia'\n",
            " 'AirBrush: Easy Photo Editor' 'Airbnb' 'Airport + Flight Tracker Radar'\n",
            " 'Airway Ex - Intubate. Anesthetize. Train.' 'Akinator'\n",
            " 'AlReader -any text book reader' 'Alarm Clock' 'Alarm Clock Free'\n",
            " 'Alfred Home Security Camera'\n",
            " 'AliExpress - Smarter Shopping, Better Living' 'All Email Providers'\n",
            " 'All Events in City' 'All Football - Latest News & Videos'\n",
            " 'All Football GO- Live Score, Games' 'All Language Translator Free'\n",
            " 'All Maths Formulas' 'All Mental disorders' 'All Social Networks'\n",
            " 'All Video Downloader 2018'\n",
            " 'All-In-One Toolbox: Cleaner, Booster, App Manager'\n",
            " 'All-in-One Mahjong 3 FREE' 'Allegiant' 'Allrecipes Dinner Spinner'\n",
            " \"Alto's Adventure\" 'Amazon Drive'\n",
            " 'Amazon FreeTime – Kids’ Videos, Books, & TV shows' 'Amazon Kindle'\n",
            " 'Amazon Prime Video' 'Amazon Shopping' 'Amazon for Tablets'\n",
            " 'American Airlines' 'Amex Mobile' 'Amino: Communities and Chats' 'Amtrak'\n",
            " 'Anatomy Learning - 3D Atlas' 'Ancestry' 'AndroZip™ FREE File Manager'\n",
            " 'Android Auto - Maps, Media, Messaging & Voice' 'Android Messages'\n",
            " 'Anger of stick 5 : zombie' 'Angry Birds 2' 'Angry Birds Classic'\n",
            " 'Angry Birds Rio' 'Animal Planet GO' 'Animated Photo Editor'\n",
            " 'Anime Avatar Creator: Make Your Own Avatar' 'Anime Manga Coloring Book'\n",
            " 'Anthem Anywhere' 'Anthem BC Anywhere'\n",
            " 'Any.do: To-do list, Calendar, Reminders & Planner'\n",
            " 'Apartment Decorating Ideas'\n",
            " 'Apartment List: Housing, Apt, and Property Rentals'\n",
            " 'Apartment, Home Rental Search: Realtor.com Rentals'\n",
            " 'Apartments & Rentals - Zillow' 'Apartments.com Rental Search'\n",
            " 'Apex Launcher' 'Apk Installer' 'App vault' 'AppLock'\n",
            " 'AppLock - Fingerprint' 'Apple Daily 蘋果動新聞' 'Aprender inglés con Wlingua'\n",
            " 'Archos File Manager' 'Arrow.io' 'Asana: organize team projects'\n",
            " 'Ascape VR: 360° Virtual Travel' 'Asphalt 8: Airborne'\n",
            " 'Associated Credit Union Mobile' 'Asteroids 3D live wallpaper'\n",
            " 'Atlan3D Navigation: Korea navigator' 'AutoCAD - DWG Viewer & Editor'\n",
            " 'AutoScout24 Switzerland – Find your new car'\n",
            " 'Avakin Life - 3D virtual world' 'Aviary Effects: Classic'\n",
            " 'Aviary Stickers: Free Pack' 'Azar' 'Azpen eReader'\n",
            " 'B612 - Beauty & Filter Camera' 'BBC Media Player' 'BBC News' 'BBC Sport'\n",
            " 'BBM - Free Calls & Messages' 'BBVA Compass Banking' 'BBVA Spain'\n",
            " 'BBW Dating & Curvy Singles Chat- LargeFriends'\n",
            " 'BBW Dating & Plus Size Chat' 'BBWCupid - BBW Dating App'\n",
            " 'BELONG Beating Cancer Together' 'BEST CAR SOUNDS'\n",
            " 'BET NOW - Watch Shows' 'BEYBLADE BURST app' 'BIG Launcher'\n",
            " 'BLK - Swipe. Match. Chat.' 'BZWBK24 mobile' 'BaBe - Baca Berita'\n",
            " 'BaBe Lite - Baca Berita Hemat Kuota' 'BaBe+ - Berita Indonesia'\n",
            " 'Babbel – Learn Languages' 'Babbel – Learn Spanish'\n",
            " 'Baby ABC in box! Kids alphabet games for toddlers!' 'Baby Monitor'\n",
            " 'Baby Name Together' 'Baby Panda Care' 'Baby Panda Learns Shapes'\n",
            " 'Baby Panda Musical Genius' 'Baby Panda’s Juice Shop'\n",
            " 'Baby Tiger Care - My Cute Virtual Pet Friend' 'Baby puzzles'\n",
            " 'Baca- Berita Terbaru, Informasi, Gosip dan Politik'\n",
            " 'Backgrounds (HD Wallpapers)' 'Backgrounds HD (Wallpapers)'\n",
            " 'BaconReader for Reddit' 'Bad Piggies' 'Badoo - Free Chat & Dating App'\n",
            " 'Bagan - Myanmar Keyboard' 'Banco Itaú' 'Banco do Brasil'\n",
            " 'Bancomer móvil' 'Banfield Pet Health Tracker'\n",
            " 'Bangla Newspaper – Prothom Alo' 'Banjo' 'Bank of America Mobile Banking'\n",
            " 'BankMobile Vibe App' 'Banorte Movil' 'Banque Populaire' 'Barbie Life™'\n",
            " 'Barbie Magical Fashion' 'Barbie™ Fashion Closet'\n",
            " 'Barclays US for Android' 'Barcode Scanner'\n",
            " 'Baritastic - Bariatric Tracker' 'Baseball Boy!'\n",
            " 'Basketball FRVR - Shoot the Hoop and Slam Dunk!' 'Basketball Stars'\n",
            " 'Bathroom Decorating Ideas' 'Battlelands Royale' 'Be A Legend: Soccer'\n",
            " 'BeSoccer - Soccer Live Score' 'BeWild Free Dating & Chat App'\n",
            " 'Beautiful Design Birthday Cake' 'Beautiful Widgets Free'\n",
            " 'Beautiful Widgets Pro' 'Beauty Camera - Selfie Camera'\n",
            " 'Beauty Makeup Snappy Collage Photo Editor - Lidow'\n",
            " 'BeautyPlus - Easy Photo Editor & Selfie Camera'\n",
            " 'Bed Time Fan - White Noise Sleep Sounds' 'Best Car Wallpapers'\n",
            " 'Best Fiends - Free Puzzle Game'\n",
            " 'Best Ovulation Tracker Fertility Calendar App Glow'\n",
            " 'Best Wallpapers Backgrounds(100,000+ 4K HD)' 'Best Wallpapers QHD'\n",
            " 'BestCam Selfie-selfie, beauty camera, photo editor'\n",
            " 'BetterMe: Weight Loss Workouts' 'Betterment' 'BeyondMenu Food Delivery'\n",
            " 'BeyondPod Podcast Manager' 'Bible' 'Big Days - Events Countdown'\n",
            " 'BigOven Recipes, Meal Planner, Grocery List & More'\n",
            " 'BiggerCity: Chat for gay bears, chubs & chasers'\n",
            " 'Bike Computer - GPS Cycling Tracker' 'Binaural Beats Meditation'\n",
            " 'Binaural Beats Therapy' 'BioLife Plasma Services'\n",
            " 'Birdays – Birthday reminder' 'Birds Sounds Ringtones & Wallpapers'\n",
            " 'Black People Meet Singles Date' 'Block Puzzle'\n",
            " 'Block Puzzle Classic Legend !' 'Blogaway for Android (Blogger)'\n",
            " 'Blogger' \"Bloglovin'\" 'Blood Donor' 'Blood Pressure'\n",
            " 'Blood Pressure Log - MyDiary' 'Blood Pressure(BP) Diary'\n",
            " 'Bloomberg Professional' 'Bloomberg: Market & Financial News'\n",
            " 'Blossom Blast Saga' 'BluTV' 'Blur Image Background'\n",
            " 'Blur Image Background Editor (Blur Photo Editor)'\n",
            " 'Booking.com Travel Deals' 'Bowmasters' 'Box' 'Boxed Wholesale'\n",
            " \"Boys Photo Editor - Six Pack & Men's Suit\"\n",
            " 'Brain Waves - Binaural Beats' 'Branch'\n",
            " 'Brasileirão Pro 2018 - Série A e B'\n",
            " 'Breaking News, Local news, Attacks and Alerts Free'\n",
            " 'Brightest Flashlight Free ®' 'Brightest LED Flashlight' 'Brilliant'\n",
            " 'Brit + Co' 'British Airways' 'Browser 4G' 'Bualuang mBanking'\n",
            " 'Bubble Shooter' 'Bubble Shooter 2' 'Bubble Shooter Genies'\n",
            " 'Bubble Shooter Space' 'Bubble Witch 3 Saga' 'Buienradar - weer'\n",
            " 'Build a Bridge!' 'Bukalapak - Jual Beli Online'\n",
            " 'BukuBayi - Perkembangan Bayi' 'Burner - Free Phone Number'\n",
            " 'Buscapé - Ofertas e descontos' 'Business Calendar 2'\n",
            " 'Butterfly Live Wallpaper' 'Buzz Launcher-Smart&Free Theme'\n",
            " 'BuzzFeed: News, Tasty, Quizzes' 'BÁO MỚI - Đọc Báo, Tin Tức 24h'\n",
            " 'C Programming' 'C++ Programming' 'C++ Tutorials' 'CAIXA'\n",
            " 'CALCU™ Stylish Calculator Free' 'CATS: Crash Arena Turbo Stars'\n",
            " 'CBS News' 'CBS Sports App - Scores, News, Stats & Watch Live'\n",
            " 'CBS Sports Fantasy' 'CDL Practice Test 2018 Edition'\n",
            " 'CIA - Caller ID & Call Blocker'\n",
            " 'CM Browser - Ad Blocker , Fast Download , Privacy'\n",
            " 'CM Flashlight (Compass, SOS)'\n",
            " 'CM Launcher 3D - Theme, Wallpapers, Efficient'\n",
            " 'CM Locker - Security Lockscreen' 'CMB Free Dating App'\n",
            " 'CNBC: Breaking Business News & Live Market Data'\n",
            " 'CNN Breaking US & World News' \"COOKING MAMA Let's Cook!\" 'CVS Caremark'\n",
            " 'CW Seed' 'CWT To Go'\n",
            " 'Cache Cleaner-DU Speed Booster (booster & cleaner)' 'Caf - Mon Compte'\n",
            " 'Calculator - free calculator, multi calculator app'\n",
            " 'Calculator - unit converter' 'Calculator Plus Free'\n",
            " 'Calculator with Percent (Free)' 'Calendar Widget Month + Agenda'\n",
            " 'Calendar+ Schedule Planner App' 'Call Blocker'\n",
            " 'Call Control - Call Blocker' 'Call of Duty:Black Ops Zombies'\n",
            " 'CallApp: Caller ID, Blocker & Phone Call Recorder' 'Caller ID +'\n",
            " 'Calls & Text by Mo+' 'Calls Blacklist - Call Blocker'\n",
            " 'Calm - Meditate, Sleep, Relax' 'Calorie Counter & Diet Tracker'\n",
            " 'Calorie Counter - EasyFit free' 'Calorie Counter - Macros'\n",
            " 'Calorie Counter - MyFitnessPal' 'Calorie Counter - MyNetDiary'\n",
            " 'Cameringo Lite. Filters Camera' 'Candy Bomb'\n",
            " 'Candy Camera - selfie, beauty camera, photo editor'\n",
            " 'Candy Crush Jelly Saga' 'Candy Crush Saga' 'Candy Crush Soda Saga'\n",
            " 'Candy Day' 'Candy Pop Story' 'Candy Smash'\n",
            " 'Candy selfie - photo editor, live filter camera'\n",
            " 'Canva: Poster, banner, card maker & graphic design' 'Canvas Student'\n",
            " 'Cat Sim Online: Play with Cats' 'Caviar - Food Delivery'\n",
            " 'Chakra Cleansing' 'Championat' 'Chapters: Interactive Stories'\n",
            " 'Chase Mobile' 'Chat Rooms, Avatars, Date - Galaxy'\n",
            " 'ChatVideo Meet new people' 'Cheap Flights & Hotels momondo'\n",
            " 'Cheap hotel deals and discounts — Hotellook'\n",
            " 'CheapTickets – Hotels, Flights & Travel Deals'\n",
            " 'Cheapflights – Flight Search' 'CheckPoints 🏆 Rewards App' 'Checkers ✔️'\n",
            " 'Checkout 51: Grocery coupons' 'Choice Hotels'\n",
            " 'Choices: Stories You Play' 'Christian Dating For Free App' 'Chrome Beta'\n",
            " 'Chrome Dev' 'Cinemark Theatres' 'Cisco Webex Meetings'\n",
            " 'Cisco Webex Teams' 'Citi Mobile®' 'Citibanamex Movil'\n",
            " 'Citizens Bank Mobile Banking'\n",
            " 'CityMaps2Go Plan Trips Travel Guide Offline Maps' 'Claro' 'Clash Royale'\n",
            " 'Clash of Clans' 'Color Flashlight' 'Color Road' 'Color Touch Effects'\n",
            " 'Color by Number - Draw Sandbox Pixel Art'\n",
            " 'Color by Number – New Coloring Book' 'ColorFil - Adult Coloring Book'\n",
            " 'ColorNote Notepad Notes' 'ColorSnap® Visualizer'\n",
            " 'Colorfit - Drawing & Coloring'\n",
            " 'Colorful Glitter Neon Butterfly Keyboard Theme'\n",
            " 'Colorfy: Coloring Book for Adults - Free' 'Coloring & Learn'\n",
            " 'Coloring book moana' 'Comedy Central' 'Common Core'\n",
            " 'Comptia A+ 220-901 & 220-902' 'ConnectLine' 'Contacts' 'Contacts+'\n",
            " 'Content Transfer' 'ConvertPad - Unit Converter' 'Cookbook Recipes'\n",
            " 'Cooking Channel' 'Cooking Fever'\n",
            " \"Cooking Madness - A Chef's Restaurant Games\" 'Cookpad'\n",
            " 'Cool Popular Ringtones 2018 🔥' 'Cool Reader'\n",
            " 'Couch to 10K Running Trainer' 'Couch to 5K by RunDouble'\n",
            " 'Couchsurfing Travel App'\n",
            " 'Cougar Dating Life : Date Older Women Sugar Mummy'\n",
            " 'Couple - Relationship App' 'Credit Karma' 'Credit Sesame'\n",
            " 'CreditWise from Capital One' 'Crew - Free Messaging and Scheduling'\n",
            " 'Cricbuzz - Live Cricket Scores & News' 'Cricket Visual Voicemail'\n",
            " 'Crossy Road' 'Crunchyroll - Everything Anime'\n",
            " 'Current debit card and app made for teens'\n",
            " 'Curriculum vitae App CV Builder Free Resume Maker'\n",
            " 'Curso de Ingles Gratis' 'Cut the Rope 2' 'Cut the Rope FULL FREE'\n",
            " 'Cycling - Bike Tracker'\n",
            " 'Cymera Camera- Photo Editor, Filter,Collage,Layout'\n",
            " 'Czech Public Transport IDOS' 'DC Comics' 'DC Super Hero Girls™'\n",
            " 'DEAD TARGET: FPS Zombie Apocalypse Survival Games' 'DEER HUNTER 2018'\n",
            " 'DELISH KITCHEN - 無料レシピ動画で料理を楽しく・簡単に！' 'DINO HUNTER: DEADLY SHORES'\n",
            " 'DIY Garden Ideas' 'DIY On A Budget'\n",
            " 'DMV Permit Practice Test 2018 Edition' 'DRAGON BALL LEGENDS'\n",
            " 'DSLR Camera Hd Ultra Professional' 'DStv Now'\n",
            " 'DU Browser—Browse fast & fun'\n",
            " 'DU Recorder – Screen Recorder, Video Editor, Live'\n",
            " 'Daily Workouts - Exercise Fitness Routine Trainer'\n",
            " 'Daily Yoga - Yoga Fitness Plans'\n",
            " 'Dailyhunt (Newshunt) - Latest News, Viral Videos' 'Dairy Queen'\n",
            " 'Daniel Tiger for Parents' 'DashClock Widget'\n",
            " 'Dashlane Free Password Manager' 'Dating App, Flirt & Chat : W-Match'\n",
            " 'Dating for 50 plus Mature Singles – FINALLY' 'Daum Mail - 다음 메일'\n",
            " \"Davis's Drug Guide\" \"Davis's Drug Guide for Nurses\" 'Debonairs Pizza'\n",
            " 'Delivery Club–Доставка еды:пицца,суши,бургер,салат' 'Delta Dental'\n",
            " 'Despegar.com Hoteles y Vuelos' 'Detector de Radares Gratis'\n",
            " 'Device Help' 'Diabetes & Diet Tracker' 'Diabetes:M'\n",
            " 'Diamond Zipper Lock Screen' 'Diary with lock' 'Diary with lock password'\n",
            " 'Dictionary - Merriam-Webster' 'Die TK-App – alles im Griff' 'Digg'\n",
            " 'DigiCal Calendar Agenda' 'Digit Save Money Automatically'\n",
            " 'Digital Alarm Clock' 'Dil Mil' 'Dino War: Rise of Beasts'\n",
            " 'Dinosaur Simulator: Dino World' 'Discover Mobile'\n",
            " 'Disney Heroes: Battle Mode'\n",
            " 'Disney Magic Kingdoms: Build Your Own Magical Park'\n",
            " 'DisneyNOW – TV Shows & Games' 'Divar' 'Do It Later: Tasks & To-Dos'\n",
            " 'Docs To Go™ Free Office Suite' 'Doctor On Demand' 'Doctor Pets'\n",
            " 'Dog Licks Screen Wallpaper' 'Dog Run - Pet Dog Simulator'\n",
            " 'Dog Sim Online: Raise a Family' \"Domino's Pizza USA\" 'Dominos Game ✔️'\n",
            " 'Domofond Недвижимость. Купить, снять квартиру.' 'Doodle Jump'\n",
            " 'Door Lock Screen' 'DoorDash - Food Delivery'\n",
            " 'Dosecast - Medication Reminder' 'Down Dog: Great Yoga Anywhere'\n",
            " 'Dr. Oetker Rezeptideen' \"Dr. Panda & Toto's Treehouse\"\n",
            " 'Dr. Panda Restaurant 3' 'Dr. Panda Town: Vacation'\n",
            " 'DraftKings - Daily Fantasy Sports' 'Dragon Hills' 'Draw A Stickman'\n",
            " 'Draw In' 'Draw Your Game' 'Draw a Stickman: EPIC 2'\n",
            " 'Drawing for Kids Learning Games for Toddlers age 3'\n",
            " 'Dream League Soccer 2018' 'DreamTrips' 'DreamWorks Friends'\n",
            " 'Dresses Ideas & Fashions +3000' 'Droid Zap by Motorola'\n",
            " 'DroidAdmin for Android - Advice' 'Dropbox' 'Drugs.com Medication Guide'\n",
            " 'Dude Perfect 2' 'Dumb Ways to Die 2: The Games'\n",
            " 'Dungeon Hunter Champions: Epic Online Action RPG' \"Dunkin' Donuts\"\n",
            " 'Duolingo: Learn Languages Free' 'DuraSpeed' 'E*TRADE Mobile'\n",
            " 'Easy - taxi, car, ridesharing' 'Easy Hair Style Design'\n",
            " 'Easy Healthy Recipes' 'Easy Installer - Apps On SD'\n",
            " 'Easy Makeup Tutorials' 'Easy Origami Ideas' 'Easy Recipes'\n",
            " 'Easy Voice Recorder' 'EasyBib: Citation Generator'\n",
            " 'Eat Fit - Diet and Health Free' 'Eat24 Food Delivery & Takeout'\n",
            " 'EatStreet Food Delivery App'\n",
            " 'Ebates: Cash Back, Coupons, Rewards & Savings' 'Ebook Reader'\n",
            " 'Ecobank Mobile Banking' 'Edmodo' 'Educational Games 4 Kids'\n",
            " 'Educational Games for Kids' 'El tiempo de AEMET'\n",
            " 'English with Lingualeo' 'English-Myanmar Dictionary' 'Entel'\n",
            " 'Enterprise Rent-A-Car' 'Episode - Choose Your Story' 'Epocrates Plus'\n",
            " 'Equestria Girls' 'Essential Anatomy 3' 'Essential Resources'\n",
            " 'Etsy: Handmade & Vintage Goods' 'Etta Homes' 'Eurosport'\n",
            " 'Eve Period Tracker - Love, Sex & Relationships App'\n",
            " 'Even - organize your money, get paid early'\n",
            " 'Evernote – Organizer, Planner for Notes & Memos' 'Evie Launcher'\n",
            " 'ExDialer - Dialer & Contacts'\n",
            " 'Expedia Hotels, Flights & Car Rental Travel Deals'\n",
            " 'Expense IQ Money Manager' 'Experian - Free Credit Report'\n",
            " 'Extreme Car Driving Simulator' 'Extreme Coupon Finder' 'Extreme Match'\n",
            " 'Extreme Racing 2 - Real driving RC cars game!' 'EyeCloud'\n",
            " 'EyeEm - Camera & Photo Filter' 'EzCalculator'\n",
            " 'FBReader: Favorite Book Reader' 'FERZU - Furries Social Network'\n",
            " 'FIFA - Tournaments, Soccer News & Live Scores'\n",
            " 'FINAL FANTASY BRAVE EXVIUS' 'FOSSIL Q: DESIGN YOUR DIAL' 'FOX'\n",
            " 'FOX NOW - On Demand & Live TV'\n",
            " 'FOX Sports: Live Streaming, Scores & News'\n",
            " 'FREEDOME VPN Unlimited anonymous Wifi Security'\n",
            " 'FUN Keyboard – Emoji Keyboard, Sticker,Theme & GIF'\n",
            " 'Fabulous: Motivate Me! Meditate, Relax, Sleep'\n",
            " 'Face Filter, Selfie Editor - Sweet Camera' 'Facebook'\n",
            " 'Facebook Ads Manager' 'Facebook Lite' 'Facebook Local'\n",
            " 'Facebook Pages Manager' 'Facetune - Ad Free'\n",
            " 'Fake Call - Fake Caller ID' 'Fallout Shelter'\n",
            " 'Family Album Mitene: Private Photo & Video Sharing' 'Family Dollar'\n",
            " 'Family GPS Tracker and Chat + Baby Monitor Online'\n",
            " 'Family GPS tracker KidControl + GPS by SMS Locator'\n",
            " 'Family Locator - GPS Tracker' 'FamilySearch Tree'\n",
            " 'FanDuel: Daily Fantasy Sports' 'Fancy Widgets'\n",
            " 'Fandango Movies - Times + Tickets' 'Fantasy Football'\n",
            " 'Fantasy Football & NFL News' 'Fantasy Football Manager (FPL)'\n",
            " 'Farm Fruit Pop: Party Time' 'Farm Heroes Saga' 'Farming Simulator 14'\n",
            " 'Farming Simulator 18' 'Fashion in Vogue' 'Fast News'\n",
            " 'Fast Scanner : Free PDF Scan' 'Fast Secure VPN'\n",
            " 'FastMeet: Chat, Dating, Love' 'Fat Burning Workout - Home Weight lose'\n",
            " 'Fate/Grand Order (English)'\n",
            " 'FidMe Loyalty Cards & Deals at Grocery Supermarket'\n",
            " 'File Browser by Astro (File Manager)' 'File Explorer' 'File Manager'\n",
            " 'File Manager -- Take Command of Your Files Easily'\n",
            " 'Files Go by Google: Free up space on your phone'\n",
            " 'FilterGrid - Cam&Photo Editor' 'Filters for B Live' 'Filters for Selfie'\n",
            " 'Final Fantasy XV: A New Empire' 'Financial Times'\n",
            " 'Find Dining Restaurant Finder' 'Find a Way: Addictive Puzzle'\n",
            " 'Find&Save - Local Shopping' 'FindShip' 'Firefox Browser fast & private'\n",
            " 'Firefox Focus: The privacy browser' 'Fishdom' 'Fitbit' 'Flashlight'\n",
            " 'Flashlight & LED Torch' 'Flashlight - Torch LED Light'\n",
            " 'Flashlight HD LED' 'Flickr' 'Flight & Hotel Booking App - ixigo'\n",
            " 'Flightradar24 Flight Tracker' 'Flights' 'Flip the Gun - Simulator Game'\n",
            " 'FlipaClip - Cartoon animation' 'Flipboard: News For Our Time'\n",
            " 'Flipkart Online Shopping App' 'Flipp - Weekly Shopping'\n",
            " 'Flippy Campus - Buy & sell on campus at a discount'\n",
            " 'FlirtChat - ♥Free Dating/Flirting App♥' 'Floor Plan Creator' 'Flow Free'\n",
            " 'Flowers Live Wallpaper' 'Fly Delta' 'FollowMyHealth®'\n",
            " 'Font Studio- Photo Texts Image' 'Food Calorie Calculator' 'Food Network'\n",
            " 'Fooducate Healthy Weight Loss & Calorie Counter'\n",
            " 'Foot Mercato : transferts, résultats, news, live' 'Football Live Scores'\n",
            " 'ForecaWeather' 'Fortune City - A Finance App' 'Four In A Line'\n",
            " 'Four In A Line Free' 'Foursquare City Guide'\n",
            " 'Foursquare Swarm: Check In' 'Fox Business'\n",
            " 'Fox News – Breaking News, Live Video & News Alerts'\n",
            " 'Fraction Calculator Plus Free' 'Free & Premium VPN - FinchVPN'\n",
            " 'Free Dating & Flirt Chat - Choice of Love'\n",
            " 'Free Dating App & Flirt Chat - Cheers'\n",
            " 'Free Dating App & Flirt Chat - Match with Singles'\n",
            " 'Free Dating App - Meet Local Singles - Flirt Chat'\n",
            " 'Free Dating App - YoCutie - Flirt, Chat & Meet'\n",
            " 'Free Dating Hook Up Messenger'\n",
            " 'Free Foreclosure Real Estate Search by USHUD.com' 'Free Hypnosis'\n",
            " 'Free Live Talk-Video Call' 'Free Panda Radio Music' 'Free Sports TV'\n",
            " 'Free TV Shows App:News, TV Series, Episode, Movies'\n",
            " 'Free VIN Report for Used Cars' 'Free live weather on screen'\n",
            " 'Free phone calls, free texting SMS on free number'\n",
            " 'FreePrints – Free Photos Delivered'\n",
            " 'Freeletics: Personal Trainer & Fitness Workouts'\n",
            " 'Freeme Launcher—Stylish Theme' 'Fresh EBT - Food Stamp Balance'\n",
            " 'FreshBooks Classic' 'Frontback - Social Photos' 'Frozen Free Fall'\n",
            " 'Fruit Block - Puzzle Legend' 'Fruit Ninja®' 'Fruits Bomb'\n",
            " 'Fuelio: Gas log & costs' 'Full Screen Caller ID' 'Fun Kid Racing'\n",
            " 'Fun Kid Racing - Motocross' 'Funny Alarm Clock Ringtones' 'Funny Pics'\n",
            " 'Fuzzy Seasons: Animal Forest' 'G Cloud Backup'\n",
            " 'GANMA! - オリジナル漫画が全話無料で読み放題' 'GCash - Buy Load, Pay Bills, Send Money'\n",
            " 'GMAT Math Flashcards' 'GMAT Question Bank' 'GMX Mail'\n",
            " 'GO Keyboard - Cute Emojis, Themes and GIFs'\n",
            " 'GO Keyboard - Emoticon keyboard, Free Theme, GIF' 'GO Notifier'\n",
            " 'GO SMS Pro - Messenger, Free Themes, Emoji'\n",
            " 'GO Weather - Widget, Theme, Wallpaper, Efficient' 'GPS Map Free'\n",
            " 'GPS Speedometer and Odometer' 'GPS Speedometer, Distance Meter'\n",
            " 'GPS Status & Toolbox'\n",
            " 'GPS Traffic Speedcam Route Planner by ViaMichelin' 'GRE Flashcards'\n",
            " 'GRE Prep & Practice by Magoosh' 'GRE Tutor' 'GS SHOP'\n",
            " 'GUNSHIP BATTLE: Helicopter 3D' 'Galactic Core Free Wallpaper'\n",
            " 'Galaxy Attack: Alien Shooter' 'Game of Thrones: Conquest™'\n",
            " 'Gametime - Tickets to Sports, Concerts, Theater' 'Garden Coloring Book'\n",
            " 'Garden Fruit Legend' 'Garden Photo Frames - Garden Photo Editor'\n",
            " 'Gardenscapes' 'Garena Free Fire' 'Garmin Connect™'\n",
            " 'GasBuddy: Find Cheap Gas' 'Gay Sugar Daddy Dating & Hookup – Sudy Gay'\n",
            " 'Gboard - the Google Keyboard' 'Gems or jewels ?'\n",
            " 'Genius Scan - PDF Scanner' 'Gmail' 'GoBank' 'GoPro (formerly Capture)'\n",
            " 'Goal Live Scores' 'Goibibo - Flight Hotel Bus Car IRCTC Booking App'\n",
            " 'Goku Wallpaper Art' 'Gold Butterfly Keyboard Theme'\n",
            " 'Golden Dictionary (EN-AR)' 'Golden Launcher'\n",
            " 'Goldstar: Live Event Tickets' 'Golf Channel'\n",
            " 'Golf GPS Rangefinder: Golf Pad' 'Golf GPS by SwingxSwing'\n",
            " 'GolfLogix GPS + Putt Breaks'\n",
            " 'GolfNow: Tee Time Deals at Golf Courses, Golf GPS'\n",
            " 'Golfshot Plus: Golf GPS' 'Golfshot: Golf GPS + Tee Times'\n",
            " 'GoodRx Drug Prices and Coupons' 'Google' 'Google Ads'\n",
            " 'Google Duo - High Quality Video Calls' 'Google Earth'\n",
            " 'Google Fit - Fitness Tracking' 'Google Handwriting Input' 'Google Keep'\n",
            " 'Google My Business' 'Google News' 'Google PDF Viewer' 'Google Pay'\n",
            " 'Google Photos' 'Google Primer' 'Google Slides' 'Google Street View'\n",
            " 'Google Translate' 'Google Trips - Travel Planner' 'Google Voice'\n",
            " 'Google+' 'Granny' 'Graphing Calculator'\n",
            " 'Grim Soul: Dark Fantasy Survival' 'Groovebook Photo Books & Gifts'\n",
            " 'GroupMe' 'Groupon - Shop Deals, Discounts & Coupons'\n",
            " 'Grubhub: Food Delivery' 'Guns of Glory' 'Gyft - Mobile Gift Card Wallet'\n",
            " 'H Pack' 'H TV' 'H&M' 'HBO GO: Stream with TV Package' 'HD Camera'\n",
            " 'HD Camera - Best Cam with filters & panorama'\n",
            " 'HD Camera - Quick Snap Photo & Video' 'HD Camera Pro for Android'\n",
            " 'HD Camera Ultra' 'HD Camera for Android' 'HD Movie Video Player'\n",
            " 'HD Video Player' 'HD Widgets' 'HDFC Bank MobileBanking'\n",
            " 'HESI A2 Pocket Prep' 'HISTORY: Watch TV Show Full Episodes & Specials'\n",
            " 'HTC Calendar' 'HTC File Manager' 'HTC Gallery' 'HTC Help'\n",
            " 'HTC Lock Screen' 'HTC Mail' 'HTC Sense Input' 'HTC Sense Input-AR'\n",
            " 'HTC Service － DLNA' 'HTC Service—Video Player'\n",
            " 'HTC Social Plugin - Facebook' 'HTC Speak' 'HTC Weather'\n",
            " \"Hacker's Keyboard\" 'Hairstyles step by step'\n",
            " 'Hamilton — The Official App' 'Hangouts' 'Happify'\n",
            " 'Happy Birthday Songs Offline' 'Happy Fruits Bomb - Cube Blast'\n",
            " 'Happy Street' 'Harkins Theatres' 'Harry Potter: Hogwarts Mystery'\n",
            " 'HauteLook' 'Hay Day' 'Haystack TV: Local & World News - Free'\n",
            " 'Headspace: Meditation & Mindfulness' 'Health and Nutrition Guide'\n",
            " 'HealtheLife' 'Healthy Recipes Free' 'Helix Jump' 'Hello Kitty Lunchbox'\n",
            " 'Hello Kitty Nail Salon' 'Hello Stars'\n",
            " 'HelloTalk — Chat, Speak & Learn Foreign Languages' 'Hero Hunters'\n",
            " 'Herpes Dating: 1,000K+ Singles' 'Herpes Positive Singles Dating'\n",
            " 'Hide App, Private Dating, Safe Chat - PrivacyHider'\n",
            " 'Hide Something - Photo, Video' 'Hideman VPN'\n",
            " 'High Blood Pressure Symptoms' 'High-Powered Flashlight'\n",
            " 'High-Speed Camera (GIF,Burst)' 'Hill Climb Racing' 'Hill Climb Racing 2'\n",
            " 'Hily: Dating, Chat, Match, Meet & Hook up'\n",
            " 'Hinge: Dating & Relationships' 'HipChat - Chat Built for Teams'\n",
            " 'Hipmunk Hotels & Flights' 'Hitwe - meet people and chat'\n",
            " 'Hole19: Golf GPS App, Rangefinder & Scorecard'\n",
            " 'Home Decor Showpiece Art making: Medium Difficulty'\n",
            " 'Home Scouting® MLS Mobile'\n",
            " 'Home Security Camera WardenCam - reuse old phones'\n",
            " 'Home Street – Home Design Game' 'Home Workout - No Equipment'\n",
            " 'Home Workout for Men - Bodybuilding'\n",
            " 'Home workouts - fat burning, abs, legs, arms,chest' 'HomeWork'\n",
            " 'Homes.com 🏠 For Sale, Rent' 'Homescapes'\n",
            " 'Homesnap Real Estate & Rentals'\n",
            " 'Homestyler Interior Design & Decorating Ideas' 'Homework Planner'\n",
            " 'Honkai Impact 3rd' 'Hopper - Watch & Book Flights'\n",
            " 'Horoscopes – Daily Zodiac Horoscope and Astrology'\n",
            " 'Horses Live Wallpaper' 'Hostelworld: Hostels & Cheap Hotels Travel App'\n",
            " 'Hot Wheels: Race Off' 'HotelTonight: Book amazing deals at great hotels'\n",
            " 'Hotels Combined - Cheap deals'\n",
            " 'Hotels.com: Book Hotel Rooms & Find Vacation Deals'\n",
            " 'Hotspot Shield Free VPN Proxy & Wi-Fi Security' 'Hotstar'\n",
            " 'Hotwire Hotel & Car Rental App' 'Housing-Real Estate & Property']\n",
            "\n",
            "Translated_Review\n",
            "['I like eat delicious food. That\\'s I\\'m cooking food myself, case \"10 Best Foods\" helps lot, also \"Best Before (Shelf Life)\"'\n",
            " 'This help eating healthy exercise regular basis'\n",
            " 'Works great especially going grocery store' ...\n",
            " 'Dumb app, I wanted post property rent give option. Website work. Waste time space phone.'\n",
            " 'I property business got link SMS happy performance still guys need raise bar guys Cheers'\n",
            " 'Useless app, I searched flats kondapur, Hyderabad . None number reachable I know flats unavailable would keep posts active']\n",
            "\n",
            "Sentiment\n",
            "['Positive' 'Neutral' 'Negative']\n",
            "\n",
            "Sentiment_Polarity\n",
            "[ 1.          0.25        0.4        ... -0.52857143 -0.37777778\n",
            "  0.17333333]\n",
            "\n",
            "Sentiment_Subjectivity\n",
            "[0.53333333 0.28846154 0.875      ... 0.51145833 0.7172619  0.2594697 ]\n"
          ]
        }
      ]
    },
    {
      "cell_type": "markdown",
      "source": [
        "dropping nan values"
      ],
      "metadata": {
        "id": "1Ld7uwbMNm5V"
      }
    },
    {
      "cell_type": "code",
      "source": [
        "reviews.shape"
      ],
      "metadata": {
        "colab": {
          "base_uri": "https://localhost:8080/"
        },
        "id": "aqDfkappNDGv",
        "outputId": "8c5c7422-b3d4-4baf-f98e-1d04e8c8ccd1"
      },
      "execution_count": null,
      "outputs": [
        {
          "output_type": "execute_result",
          "data": {
            "text/plain": [
              "(29692, 5)"
            ]
          },
          "metadata": {},
          "execution_count": 47
        }
      ]
    },
    {
      "cell_type": "code",
      "source": [
        "reviews.isna().sum()"
      ],
      "metadata": {
        "colab": {
          "base_uri": "https://localhost:8080/"
        },
        "id": "ZShE-rJYNpoL",
        "outputId": "a48142db-6b7d-44e4-a37d-7b9f66de726d"
      },
      "execution_count": null,
      "outputs": [
        {
          "output_type": "execute_result",
          "data": {
            "text/plain": [
              "App                       0\n",
              "Translated_Review         0\n",
              "Sentiment                 0\n",
              "Sentiment_Polarity        0\n",
              "Sentiment_Subjectivity    0\n",
              "dtype: int64"
            ]
          },
          "metadata": {},
          "execution_count": 48
        }
      ]
    },
    {
      "cell_type": "code",
      "source": [
        "reviews = reviews.dropna(axis=0)"
      ],
      "metadata": {
        "id": "piEU641ZNtuq"
      },
      "execution_count": null,
      "outputs": []
    },
    {
      "cell_type": "code",
      "source": [
        "reviews.isna().sum()"
      ],
      "metadata": {
        "colab": {
          "base_uri": "https://localhost:8080/"
        },
        "id": "DxXhpHKCN1P-",
        "outputId": "58afc747-b365-4b98-9bcc-eb2f19111c90"
      },
      "execution_count": null,
      "outputs": [
        {
          "output_type": "execute_result",
          "data": {
            "text/plain": [
              "App                       0\n",
              "Translated_Review         0\n",
              "Sentiment                 0\n",
              "Sentiment_Polarity        0\n",
              "Sentiment_Subjectivity    0\n",
              "dtype: int64"
            ]
          },
          "metadata": {},
          "execution_count": 50
        }
      ]
    },
    {
      "cell_type": "code",
      "source": [
        "# reviews = reviews.drop(['Translated_Review'], axis=1)"
      ],
      "metadata": {
        "id": "bcrrVaP4YIXU"
      },
      "execution_count": null,
      "outputs": []
    },
    {
      "cell_type": "code",
      "source": [
        "reviews.shape"
      ],
      "metadata": {
        "colab": {
          "base_uri": "https://localhost:8080/"
        },
        "id": "cJQ3sL91N-gG",
        "outputId": "a0fa54e2-7951-4fd9-a7ac-b9e82f39d667"
      },
      "execution_count": null,
      "outputs": [
        {
          "output_type": "execute_result",
          "data": {
            "text/plain": [
              "(29692, 5)"
            ]
          },
          "metadata": {},
          "execution_count": 51
        }
      ]
    },
    {
      "cell_type": "code",
      "source": [
        "reviews.reset_index(drop=True, inplace= True)"
      ],
      "metadata": {
        "id": "X2_GbBPlm4xv"
      },
      "execution_count": null,
      "outputs": []
    },
    {
      "cell_type": "markdown",
      "source": [
        "Answering the rest of the questions using Pandas"
      ],
      "metadata": {
        "id": "8BduewZYfm_0"
      }
    },
    {
      "cell_type": "markdown",
      "source": [
        "11. Get the number of reviews having positive sentiment and number of reviews having negative sentiment for the app 10 best foods for you and compare them.\n"
      ],
      "metadata": {
        "id": "RQzCLRjdfsJR"
      }
    },
    {
      "cell_type": "code",
      "source": [
        "reviews[reviews['App']=='10 Best Foods for You']['Sentiment'].value_counts()"
      ],
      "metadata": {
        "colab": {
          "base_uri": "https://localhost:8080/"
        },
        "id": "wGH3GkJjlMdS",
        "outputId": "b3b5bc55-0780-4b3d-f2b8-de32429d0e32"
      },
      "execution_count": null,
      "outputs": [
        {
          "output_type": "execute_result",
          "data": {
            "text/plain": [
              "Positive    162\n",
              "Neutral      22\n",
              "Negative     10\n",
              "Name: Sentiment, dtype: int64"
            ]
          },
          "metadata": {},
          "execution_count": 13
        }
      ]
    },
    {
      "cell_type": "code",
      "source": [
        "reviews.index"
      ],
      "metadata": {
        "colab": {
          "base_uri": "https://localhost:8080/"
        },
        "id": "B4Lrg7d9lOfS",
        "outputId": "2173089f-cb8b-42d6-986b-8863fb118a74"
      },
      "execution_count": null,
      "outputs": [
        {
          "output_type": "execute_result",
          "data": {
            "text/plain": [
              "RangeIndex(start=0, stop=29692, step=1)"
            ]
          },
          "metadata": {},
          "execution_count": 56
        }
      ]
    },
    {
      "cell_type": "markdown",
      "source": [
        "12. Which comments of ASUS SuperNote have sentiment polarity and sentiment subjectivity both as 1?\n"
      ],
      "metadata": {
        "id": "0AjI2AHaoG_X"
      }
    },
    {
      "cell_type": "code",
      "source": [
        "# translated reviews\n",
        "# for app = 'asus vsdkfgwhub'\n",
        "# sentiment polarity\n",
        "# sentiment subjectivity"
      ],
      "metadata": {
        "id": "yr52lQIviLUf"
      },
      "execution_count": null,
      "outputs": []
    },
    {
      "cell_type": "code",
      "source": [
        "reviews.groupby(['App'] == 'ASUS SuperNote' )['Translated_Review']"
      ],
      "metadata": {
        "colab": {
          "base_uri": "https://localhost:8080/",
          "height": 311
        },
        "id": "NicTKsJJi1Y-",
        "outputId": "3e47f0f8-1c89-4441-b182-cdfa1de46a57"
      },
      "execution_count": null,
      "outputs": [
        {
          "output_type": "error",
          "ename": "KeyError",
          "evalue": "ignored",
          "traceback": [
            "\u001b[0;31m---------------------------------------------------------------------------\u001b[0m",
            "\u001b[0;31mKeyError\u001b[0m                                  Traceback (most recent call last)",
            "\u001b[0;32m<ipython-input-53-a05e95f69854>\u001b[0m in \u001b[0;36m<module>\u001b[0;34m\u001b[0m\n\u001b[0;32m----> 1\u001b[0;31m \u001b[0mreviews\u001b[0m\u001b[0;34m.\u001b[0m\u001b[0mgroupby\u001b[0m\u001b[0;34m(\u001b[0m\u001b[0;34m[\u001b[0m\u001b[0;34m'App'\u001b[0m\u001b[0;34m]\u001b[0m \u001b[0;34m==\u001b[0m \u001b[0;34m'ASUS SuperNote'\u001b[0m \u001b[0;34m)\u001b[0m\u001b[0;34m[\u001b[0m\u001b[0;34m'Translated_Review'\u001b[0m\u001b[0;34m]\u001b[0m\u001b[0;34m\u001b[0m\u001b[0;34m\u001b[0m\u001b[0m\n\u001b[0m",
            "\u001b[0;32m/usr/local/lib/python3.8/dist-packages/pandas/core/frame.py\u001b[0m in \u001b[0;36mgroupby\u001b[0;34m(self, by, axis, level, as_index, sort, group_keys, squeeze, observed, dropna)\u001b[0m\n\u001b[1;32m   7629\u001b[0m         \u001b[0;31m# error: Argument \"squeeze\" to \"DataFrameGroupBy\" has incompatible type\u001b[0m\u001b[0;34m\u001b[0m\u001b[0;34m\u001b[0m\u001b[0;34m\u001b[0m\u001b[0m\n\u001b[1;32m   7630\u001b[0m         \u001b[0;31m# \"Union[bool, NoDefault]\"; expected \"bool\"\u001b[0m\u001b[0;34m\u001b[0m\u001b[0;34m\u001b[0m\u001b[0;34m\u001b[0m\u001b[0m\n\u001b[0;32m-> 7631\u001b[0;31m         return DataFrameGroupBy(\n\u001b[0m\u001b[1;32m   7632\u001b[0m             \u001b[0mobj\u001b[0m\u001b[0;34m=\u001b[0m\u001b[0mself\u001b[0m\u001b[0;34m,\u001b[0m\u001b[0;34m\u001b[0m\u001b[0;34m\u001b[0m\u001b[0m\n\u001b[1;32m   7633\u001b[0m             \u001b[0mkeys\u001b[0m\u001b[0;34m=\u001b[0m\u001b[0mby\u001b[0m\u001b[0;34m,\u001b[0m\u001b[0;34m\u001b[0m\u001b[0;34m\u001b[0m\u001b[0m\n",
            "\u001b[0;32m/usr/local/lib/python3.8/dist-packages/pandas/core/groupby/groupby.py\u001b[0m in \u001b[0;36m__init__\u001b[0;34m(self, obj, keys, axis, level, grouper, exclusions, selection, as_index, sort, group_keys, squeeze, observed, mutated, dropna)\u001b[0m\n\u001b[1;32m    887\u001b[0m             \u001b[0;32mfrom\u001b[0m \u001b[0mpandas\u001b[0m\u001b[0;34m.\u001b[0m\u001b[0mcore\u001b[0m\u001b[0;34m.\u001b[0m\u001b[0mgroupby\u001b[0m\u001b[0;34m.\u001b[0m\u001b[0mgrouper\u001b[0m \u001b[0;32mimport\u001b[0m \u001b[0mget_grouper\u001b[0m\u001b[0;34m\u001b[0m\u001b[0;34m\u001b[0m\u001b[0m\n\u001b[1;32m    888\u001b[0m \u001b[0;34m\u001b[0m\u001b[0m\n\u001b[0;32m--> 889\u001b[0;31m             grouper, exclusions, obj = get_grouper(\n\u001b[0m\u001b[1;32m    890\u001b[0m                 \u001b[0mobj\u001b[0m\u001b[0;34m,\u001b[0m\u001b[0;34m\u001b[0m\u001b[0;34m\u001b[0m\u001b[0m\n\u001b[1;32m    891\u001b[0m                 \u001b[0mkeys\u001b[0m\u001b[0;34m,\u001b[0m\u001b[0;34m\u001b[0m\u001b[0;34m\u001b[0m\u001b[0m\n",
            "\u001b[0;32m/usr/local/lib/python3.8/dist-packages/pandas/core/groupby/grouper.py\u001b[0m in \u001b[0;36mget_grouper\u001b[0;34m(obj, key, axis, level, sort, observed, mutated, validate, dropna)\u001b[0m\n\u001b[1;32m    860\u001b[0m                 \u001b[0min_axis\u001b[0m\u001b[0;34m,\u001b[0m \u001b[0mlevel\u001b[0m\u001b[0;34m,\u001b[0m \u001b[0mgpr\u001b[0m \u001b[0;34m=\u001b[0m \u001b[0;32mFalse\u001b[0m\u001b[0;34m,\u001b[0m \u001b[0mgpr\u001b[0m\u001b[0;34m,\u001b[0m \u001b[0;32mNone\u001b[0m\u001b[0;34m\u001b[0m\u001b[0;34m\u001b[0m\u001b[0m\n\u001b[1;32m    861\u001b[0m             \u001b[0;32melse\u001b[0m\u001b[0;34m:\u001b[0m\u001b[0;34m\u001b[0m\u001b[0;34m\u001b[0m\u001b[0m\n\u001b[0;32m--> 862\u001b[0;31m                 \u001b[0;32mraise\u001b[0m \u001b[0mKeyError\u001b[0m\u001b[0;34m(\u001b[0m\u001b[0mgpr\u001b[0m\u001b[0;34m)\u001b[0m\u001b[0;34m\u001b[0m\u001b[0;34m\u001b[0m\u001b[0m\n\u001b[0m\u001b[1;32m    863\u001b[0m         \u001b[0;32melif\u001b[0m \u001b[0misinstance\u001b[0m\u001b[0;34m(\u001b[0m\u001b[0mgpr\u001b[0m\u001b[0;34m,\u001b[0m \u001b[0mGrouper\u001b[0m\u001b[0;34m)\u001b[0m \u001b[0;32mand\u001b[0m \u001b[0mgpr\u001b[0m\u001b[0;34m.\u001b[0m\u001b[0mkey\u001b[0m \u001b[0;32mis\u001b[0m \u001b[0;32mnot\u001b[0m \u001b[0;32mNone\u001b[0m\u001b[0;34m:\u001b[0m\u001b[0;34m\u001b[0m\u001b[0;34m\u001b[0m\u001b[0m\n\u001b[1;32m    864\u001b[0m             \u001b[0;31m# Add key to exclusions\u001b[0m\u001b[0;34m\u001b[0m\u001b[0;34m\u001b[0m\u001b[0;34m\u001b[0m\u001b[0m\n",
            "\u001b[0;31mKeyError\u001b[0m: False"
          ]
        }
      ]
    },
    {
      "cell_type": "code",
      "source": [
        "print(reviews[reviews['App'] == 'ASUS SuperNote']['Translated_Review'])"
      ],
      "metadata": {
        "colab": {
          "base_uri": "https://localhost:8080/"
        },
        "id": "ZjxKCsohcHvE",
        "outputId": "a08447d5-15ca-4fcc-8e07-435c52528879"
      },
      "execution_count": null,
      "outputs": [
        {
          "output_type": "stream",
          "name": "stdout",
          "text": [
            "2116    Very useful. I'd like create new note template...\n",
            "2117    All notes gone update, can't sign WebStorage a...\n",
            "2118                       The nice page limit satisfied.\n",
            "2119               Unless setup way wants work correctly.\n",
            "2120                                             zf 3 max\n",
            "2121                    Nice store copy save information.\n",
            "2122                                           I love it!\n",
            "2123                                          Awesome!!!!\n",
            "2124    Typing supported write notes handwriting swipi...\n",
            "2125    I'm trying send feedback, texts appearing scre...\n",
            "2126    Very silly can't save notes that's page, save ...\n",
            "2127    I three ASUS devices. This sync even single no...\n",
            "2128    I like flaw I like limited page size, I'd like...\n",
            "2129    Pls update give ability save redo. Because kee...\n",
            "2130    How I unlock notes lockee I forgot password? I...\n",
            "2131    My notes suddenly disappeared folders there. C...\n",
            "2132    Omg I looking for! This best app. Better note ...\n",
            "2133    Still log in, would better syncs cloud based s...\n",
            "2134    I recently opened app, suddenly deleted notes ...\n",
            "2135    Hard edit reach maximum text limit, we need co...\n",
            "2136    The read mode worse. It makes notes splited. I...\n",
            "2137                    I loss note remove automatic safe\n",
            "2138    Hello, I forgot supernote password. Can I rest...\n",
            "Name: Translated_Review, dtype: object\n"
          ]
        }
      ]
    },
    {
      "cell_type": "code",
      "source": [
        "reviews[reviews['App'] == 'ASUS SuperNote']['Sentiment_Subjectivity'] == 1"
      ],
      "metadata": {
        "colab": {
          "base_uri": "https://localhost:8080/"
        },
        "id": "N6N5oFUsd7rI",
        "outputId": "604e56db-878b-4f9e-89f6-f85c774edc83"
      },
      "execution_count": null,
      "outputs": [
        {
          "output_type": "execute_result",
          "data": {
            "text/plain": [
              "1615    False\n",
              "1616    False\n",
              "1617     True\n",
              "1618    False\n",
              "1619    False\n",
              "1620     True\n",
              "1621    False\n",
              "1622     True\n",
              "1623    False\n",
              "1624    False\n",
              "1625    False\n",
              "1626    False\n",
              "1627    False\n",
              "1628    False\n",
              "1629    False\n",
              "1630    False\n",
              "1631    False\n",
              "1632    False\n",
              "1633    False\n",
              "1634    False\n",
              "1635    False\n",
              "1636    False\n",
              "1637    False\n",
              "Name: Sentiment_Subjectivity, dtype: bool"
            ]
          },
          "metadata": {},
          "execution_count": 57
        }
      ]
    },
    {
      "cell_type": "code",
      "source": [
        "sub = reviews[reviews['App'] == 'ASUS SuperNote']['Sentiment_Subjectivity'] == 1 \n"
      ],
      "metadata": {
        "id": "W79p36G3dY2H"
      },
      "execution_count": null,
      "outputs": []
    },
    {
      "cell_type": "code",
      "source": [
        "polar = reviews[reviews['App'] == 'ASUS SuperNote']['Sentiment_Polarity'] == 1 \n"
      ],
      "metadata": {
        "id": "IHnQq0CcfmGl"
      },
      "execution_count": null,
      "outputs": []
    },
    {
      "cell_type": "code",
      "source": [
        "supernote = reviews[reviews['App'] == 'ASUS SuperNote']"
      ],
      "metadata": {
        "colab": {
          "base_uri": "https://localhost:8080/",
          "height": 770
        },
        "id": "tGxptRjgoIeV",
        "outputId": "f98946f9-953f-4d4c-8291-d7a68ca25d1f"
      },
      "execution_count": null,
      "outputs": [
        {
          "output_type": "execute_result",
          "data": {
            "text/plain": [
              "                 App                                  Translated_Review  \\\n",
              "1615  ASUS SuperNote  Very useful. I'd like create new note template...   \n",
              "1616  ASUS SuperNote  All notes gone update, can't sign WebStorage a...   \n",
              "1617  ASUS SuperNote                     The nice page limit satisfied.   \n",
              "1618  ASUS SuperNote             Unless setup way wants work correctly.   \n",
              "1619  ASUS SuperNote                                           zf 3 max   \n",
              "1620  ASUS SuperNote                  Nice store copy save information.   \n",
              "1621  ASUS SuperNote                                         I love it!   \n",
              "1622  ASUS SuperNote                                        Awesome!!!!   \n",
              "1623  ASUS SuperNote  Typing supported write notes handwriting swipi...   \n",
              "1624  ASUS SuperNote  I'm trying send feedback, texts appearing scre...   \n",
              "1625  ASUS SuperNote  Very silly can't save notes that's page, save ...   \n",
              "1626  ASUS SuperNote  I three ASUS devices. This sync even single no...   \n",
              "1627  ASUS SuperNote  I like flaw I like limited page size, I'd like...   \n",
              "1628  ASUS SuperNote  Pls update give ability save redo. Because kee...   \n",
              "1629  ASUS SuperNote  How I unlock notes lockee I forgot password? I...   \n",
              "1630  ASUS SuperNote  My notes suddenly disappeared folders there. C...   \n",
              "1631  ASUS SuperNote  Omg I looking for! This best app. Better note ...   \n",
              "1632  ASUS SuperNote  Still log in, would better syncs cloud based s...   \n",
              "1633  ASUS SuperNote  I recently opened app, suddenly deleted notes ...   \n",
              "1634  ASUS SuperNote  Hard edit reach maximum text limit, we need co...   \n",
              "1635  ASUS SuperNote  The read mode worse. It makes notes splited. I...   \n",
              "1636  ASUS SuperNote                  I loss note remove automatic safe   \n",
              "1637  ASUS SuperNote  Hello, I forgot supernote password. Can I rest...   \n",
              "\n",
              "     Sentiment  Sentiment_Polarity  Sentiment_Subjectivity  \n",
              "1615  Positive            0.242121                0.218182  \n",
              "1616   Neutral            0.000000                0.000000  \n",
              "1617  Positive            0.550000                1.000000  \n",
              "1618  Positive            0.200000                0.100000  \n",
              "1619   Neutral            0.000000                0.000000  \n",
              "1620  Positive            0.600000                1.000000  \n",
              "1621  Positive            0.625000                0.600000  \n",
              "1622  Positive            1.000000                1.000000  \n",
              "1623  Negative           -0.125000                0.725000  \n",
              "1624   Neutral            0.000000                0.000000  \n",
              "1625  Negative           -0.233333                0.550000  \n",
              "1626  Negative           -0.285714                0.207143  \n",
              "1627  Positive            0.005952                0.440476  \n",
              "1628  Positive            0.277778                0.777778  \n",
              "1629  Positive            0.375000                0.944444  \n",
              "1630  Positive            0.100000                0.350000  \n",
              "1631  Positive            0.637500                0.482143  \n",
              "1632  Positive            0.500000                0.500000  \n",
              "1633   Neutral            0.000000                0.375000  \n",
              "1634  Positive            0.031566                0.443182  \n",
              "1635  Negative           -0.400000                0.600000  \n",
              "1636  Positive            0.500000                0.500000  \n",
              "1637  Negative           -0.166667                0.333333  "
            ],
            "text/html": [
              "\n",
              "  <div id=\"df-104f19d8-0e72-4f0d-b1d4-526dcead03c5\">\n",
              "    <div class=\"colab-df-container\">\n",
              "      <div>\n",
              "<style scoped>\n",
              "    .dataframe tbody tr th:only-of-type {\n",
              "        vertical-align: middle;\n",
              "    }\n",
              "\n",
              "    .dataframe tbody tr th {\n",
              "        vertical-align: top;\n",
              "    }\n",
              "\n",
              "    .dataframe thead th {\n",
              "        text-align: right;\n",
              "    }\n",
              "</style>\n",
              "<table border=\"1\" class=\"dataframe\">\n",
              "  <thead>\n",
              "    <tr style=\"text-align: right;\">\n",
              "      <th></th>\n",
              "      <th>App</th>\n",
              "      <th>Translated_Review</th>\n",
              "      <th>Sentiment</th>\n",
              "      <th>Sentiment_Polarity</th>\n",
              "      <th>Sentiment_Subjectivity</th>\n",
              "    </tr>\n",
              "  </thead>\n",
              "  <tbody>\n",
              "    <tr>\n",
              "      <th>1615</th>\n",
              "      <td>ASUS SuperNote</td>\n",
              "      <td>Very useful. I'd like create new note template...</td>\n",
              "      <td>Positive</td>\n",
              "      <td>0.242121</td>\n",
              "      <td>0.218182</td>\n",
              "    </tr>\n",
              "    <tr>\n",
              "      <th>1616</th>\n",
              "      <td>ASUS SuperNote</td>\n",
              "      <td>All notes gone update, can't sign WebStorage a...</td>\n",
              "      <td>Neutral</td>\n",
              "      <td>0.000000</td>\n",
              "      <td>0.000000</td>\n",
              "    </tr>\n",
              "    <tr>\n",
              "      <th>1617</th>\n",
              "      <td>ASUS SuperNote</td>\n",
              "      <td>The nice page limit satisfied.</td>\n",
              "      <td>Positive</td>\n",
              "      <td>0.550000</td>\n",
              "      <td>1.000000</td>\n",
              "    </tr>\n",
              "    <tr>\n",
              "      <th>1618</th>\n",
              "      <td>ASUS SuperNote</td>\n",
              "      <td>Unless setup way wants work correctly.</td>\n",
              "      <td>Positive</td>\n",
              "      <td>0.200000</td>\n",
              "      <td>0.100000</td>\n",
              "    </tr>\n",
              "    <tr>\n",
              "      <th>1619</th>\n",
              "      <td>ASUS SuperNote</td>\n",
              "      <td>zf 3 max</td>\n",
              "      <td>Neutral</td>\n",
              "      <td>0.000000</td>\n",
              "      <td>0.000000</td>\n",
              "    </tr>\n",
              "    <tr>\n",
              "      <th>1620</th>\n",
              "      <td>ASUS SuperNote</td>\n",
              "      <td>Nice store copy save information.</td>\n",
              "      <td>Positive</td>\n",
              "      <td>0.600000</td>\n",
              "      <td>1.000000</td>\n",
              "    </tr>\n",
              "    <tr>\n",
              "      <th>1621</th>\n",
              "      <td>ASUS SuperNote</td>\n",
              "      <td>I love it!</td>\n",
              "      <td>Positive</td>\n",
              "      <td>0.625000</td>\n",
              "      <td>0.600000</td>\n",
              "    </tr>\n",
              "    <tr>\n",
              "      <th>1622</th>\n",
              "      <td>ASUS SuperNote</td>\n",
              "      <td>Awesome!!!!</td>\n",
              "      <td>Positive</td>\n",
              "      <td>1.000000</td>\n",
              "      <td>1.000000</td>\n",
              "    </tr>\n",
              "    <tr>\n",
              "      <th>1623</th>\n",
              "      <td>ASUS SuperNote</td>\n",
              "      <td>Typing supported write notes handwriting swipi...</td>\n",
              "      <td>Negative</td>\n",
              "      <td>-0.125000</td>\n",
              "      <td>0.725000</td>\n",
              "    </tr>\n",
              "    <tr>\n",
              "      <th>1624</th>\n",
              "      <td>ASUS SuperNote</td>\n",
              "      <td>I'm trying send feedback, texts appearing scre...</td>\n",
              "      <td>Neutral</td>\n",
              "      <td>0.000000</td>\n",
              "      <td>0.000000</td>\n",
              "    </tr>\n",
              "    <tr>\n",
              "      <th>1625</th>\n",
              "      <td>ASUS SuperNote</td>\n",
              "      <td>Very silly can't save notes that's page, save ...</td>\n",
              "      <td>Negative</td>\n",
              "      <td>-0.233333</td>\n",
              "      <td>0.550000</td>\n",
              "    </tr>\n",
              "    <tr>\n",
              "      <th>1626</th>\n",
              "      <td>ASUS SuperNote</td>\n",
              "      <td>I three ASUS devices. This sync even single no...</td>\n",
              "      <td>Negative</td>\n",
              "      <td>-0.285714</td>\n",
              "      <td>0.207143</td>\n",
              "    </tr>\n",
              "    <tr>\n",
              "      <th>1627</th>\n",
              "      <td>ASUS SuperNote</td>\n",
              "      <td>I like flaw I like limited page size, I'd like...</td>\n",
              "      <td>Positive</td>\n",
              "      <td>0.005952</td>\n",
              "      <td>0.440476</td>\n",
              "    </tr>\n",
              "    <tr>\n",
              "      <th>1628</th>\n",
              "      <td>ASUS SuperNote</td>\n",
              "      <td>Pls update give ability save redo. Because kee...</td>\n",
              "      <td>Positive</td>\n",
              "      <td>0.277778</td>\n",
              "      <td>0.777778</td>\n",
              "    </tr>\n",
              "    <tr>\n",
              "      <th>1629</th>\n",
              "      <td>ASUS SuperNote</td>\n",
              "      <td>How I unlock notes lockee I forgot password? I...</td>\n",
              "      <td>Positive</td>\n",
              "      <td>0.375000</td>\n",
              "      <td>0.944444</td>\n",
              "    </tr>\n",
              "    <tr>\n",
              "      <th>1630</th>\n",
              "      <td>ASUS SuperNote</td>\n",
              "      <td>My notes suddenly disappeared folders there. C...</td>\n",
              "      <td>Positive</td>\n",
              "      <td>0.100000</td>\n",
              "      <td>0.350000</td>\n",
              "    </tr>\n",
              "    <tr>\n",
              "      <th>1631</th>\n",
              "      <td>ASUS SuperNote</td>\n",
              "      <td>Omg I looking for! This best app. Better note ...</td>\n",
              "      <td>Positive</td>\n",
              "      <td>0.637500</td>\n",
              "      <td>0.482143</td>\n",
              "    </tr>\n",
              "    <tr>\n",
              "      <th>1632</th>\n",
              "      <td>ASUS SuperNote</td>\n",
              "      <td>Still log in, would better syncs cloud based s...</td>\n",
              "      <td>Positive</td>\n",
              "      <td>0.500000</td>\n",
              "      <td>0.500000</td>\n",
              "    </tr>\n",
              "    <tr>\n",
              "      <th>1633</th>\n",
              "      <td>ASUS SuperNote</td>\n",
              "      <td>I recently opened app, suddenly deleted notes ...</td>\n",
              "      <td>Neutral</td>\n",
              "      <td>0.000000</td>\n",
              "      <td>0.375000</td>\n",
              "    </tr>\n",
              "    <tr>\n",
              "      <th>1634</th>\n",
              "      <td>ASUS SuperNote</td>\n",
              "      <td>Hard edit reach maximum text limit, we need co...</td>\n",
              "      <td>Positive</td>\n",
              "      <td>0.031566</td>\n",
              "      <td>0.443182</td>\n",
              "    </tr>\n",
              "    <tr>\n",
              "      <th>1635</th>\n",
              "      <td>ASUS SuperNote</td>\n",
              "      <td>The read mode worse. It makes notes splited. I...</td>\n",
              "      <td>Negative</td>\n",
              "      <td>-0.400000</td>\n",
              "      <td>0.600000</td>\n",
              "    </tr>\n",
              "    <tr>\n",
              "      <th>1636</th>\n",
              "      <td>ASUS SuperNote</td>\n",
              "      <td>I loss note remove automatic safe</td>\n",
              "      <td>Positive</td>\n",
              "      <td>0.500000</td>\n",
              "      <td>0.500000</td>\n",
              "    </tr>\n",
              "    <tr>\n",
              "      <th>1637</th>\n",
              "      <td>ASUS SuperNote</td>\n",
              "      <td>Hello, I forgot supernote password. Can I rest...</td>\n",
              "      <td>Negative</td>\n",
              "      <td>-0.166667</td>\n",
              "      <td>0.333333</td>\n",
              "    </tr>\n",
              "  </tbody>\n",
              "</table>\n",
              "</div>\n",
              "      <button class=\"colab-df-convert\" onclick=\"convertToInteractive('df-104f19d8-0e72-4f0d-b1d4-526dcead03c5')\"\n",
              "              title=\"Convert this dataframe to an interactive table.\"\n",
              "              style=\"display:none;\">\n",
              "        \n",
              "  <svg xmlns=\"http://www.w3.org/2000/svg\" height=\"24px\"viewBox=\"0 0 24 24\"\n",
              "       width=\"24px\">\n",
              "    <path d=\"M0 0h24v24H0V0z\" fill=\"none\"/>\n",
              "    <path d=\"M18.56 5.44l.94 2.06.94-2.06 2.06-.94-2.06-.94-.94-2.06-.94 2.06-2.06.94zm-11 1L8.5 8.5l.94-2.06 2.06-.94-2.06-.94L8.5 2.5l-.94 2.06-2.06.94zm10 10l.94 2.06.94-2.06 2.06-.94-2.06-.94-.94-2.06-.94 2.06-2.06.94z\"/><path d=\"M17.41 7.96l-1.37-1.37c-.4-.4-.92-.59-1.43-.59-.52 0-1.04.2-1.43.59L10.3 9.45l-7.72 7.72c-.78.78-.78 2.05 0 2.83L4 21.41c.39.39.9.59 1.41.59.51 0 1.02-.2 1.41-.59l7.78-7.78 2.81-2.81c.8-.78.8-2.07 0-2.86zM5.41 20L4 18.59l7.72-7.72 1.47 1.35L5.41 20z\"/>\n",
              "  </svg>\n",
              "      </button>\n",
              "      \n",
              "  <style>\n",
              "    .colab-df-container {\n",
              "      display:flex;\n",
              "      flex-wrap:wrap;\n",
              "      gap: 12px;\n",
              "    }\n",
              "\n",
              "    .colab-df-convert {\n",
              "      background-color: #E8F0FE;\n",
              "      border: none;\n",
              "      border-radius: 50%;\n",
              "      cursor: pointer;\n",
              "      display: none;\n",
              "      fill: #1967D2;\n",
              "      height: 32px;\n",
              "      padding: 0 0 0 0;\n",
              "      width: 32px;\n",
              "    }\n",
              "\n",
              "    .colab-df-convert:hover {\n",
              "      background-color: #E2EBFA;\n",
              "      box-shadow: 0px 1px 2px rgba(60, 64, 67, 0.3), 0px 1px 3px 1px rgba(60, 64, 67, 0.15);\n",
              "      fill: #174EA6;\n",
              "    }\n",
              "\n",
              "    [theme=dark] .colab-df-convert {\n",
              "      background-color: #3B4455;\n",
              "      fill: #D2E3FC;\n",
              "    }\n",
              "\n",
              "    [theme=dark] .colab-df-convert:hover {\n",
              "      background-color: #434B5C;\n",
              "      box-shadow: 0px 1px 3px 1px rgba(0, 0, 0, 0.15);\n",
              "      filter: drop-shadow(0px 1px 2px rgba(0, 0, 0, 0.3));\n",
              "      fill: #FFFFFF;\n",
              "    }\n",
              "  </style>\n",
              "\n",
              "      <script>\n",
              "        const buttonEl =\n",
              "          document.querySelector('#df-104f19d8-0e72-4f0d-b1d4-526dcead03c5 button.colab-df-convert');\n",
              "        buttonEl.style.display =\n",
              "          google.colab.kernel.accessAllowed ? 'block' : 'none';\n",
              "\n",
              "        async function convertToInteractive(key) {\n",
              "          const element = document.querySelector('#df-104f19d8-0e72-4f0d-b1d4-526dcead03c5');\n",
              "          const dataTable =\n",
              "            await google.colab.kernel.invokeFunction('convertToInteractive',\n",
              "                                                     [key], {});\n",
              "          if (!dataTable) return;\n",
              "\n",
              "          const docLinkHtml = 'Like what you see? Visit the ' +\n",
              "            '<a target=\"_blank\" href=https://colab.research.google.com/notebooks/data_table.ipynb>data table notebook</a>'\n",
              "            + ' to learn more about interactive tables.';\n",
              "          element.innerHTML = '';\n",
              "          dataTable['output_type'] = 'display_data';\n",
              "          await google.colab.output.renderOutput(dataTable, element);\n",
              "          const docLink = document.createElement('div');\n",
              "          docLink.innerHTML = docLinkHtml;\n",
              "          element.appendChild(docLink);\n",
              "        }\n",
              "      </script>\n",
              "    </div>\n",
              "  </div>\n",
              "  "
            ]
          },
          "metadata": {},
          "execution_count": 74
        }
      ]
    },
    {
      "cell_type": "code",
      "source": [
        "supernote = supernote[reviews['Sentiment_Polarity'] == 1]\n"
      ],
      "metadata": {
        "colab": {
          "base_uri": "https://localhost:8080/",
          "height": 115
        },
        "id": "-pm9klGFoIb1",
        "outputId": "eda2ab23-9c1b-4caf-97fa-87172e7a8f84"
      },
      "execution_count": null,
      "outputs": [
        {
          "output_type": "stream",
          "name": "stderr",
          "text": [
            "<ipython-input-76-f4aa6b02f452>:1: UserWarning: Boolean Series key will be reindexed to match DataFrame index.\n",
            "  supernote = supernote[reviews['Sentiment_Polarity'] == 1]\n"
          ]
        },
        {
          "output_type": "execute_result",
          "data": {
            "text/plain": [
              "                 App Translated_Review Sentiment  Sentiment_Polarity  \\\n",
              "1622  ASUS SuperNote       Awesome!!!!  Positive                 1.0   \n",
              "\n",
              "      Sentiment_Subjectivity  \n",
              "1622                     1.0  "
            ],
            "text/html": [
              "\n",
              "  <div id=\"df-cb9a5ffb-80e5-48fc-b466-4ee9645ed5da\">\n",
              "    <div class=\"colab-df-container\">\n",
              "      <div>\n",
              "<style scoped>\n",
              "    .dataframe tbody tr th:only-of-type {\n",
              "        vertical-align: middle;\n",
              "    }\n",
              "\n",
              "    .dataframe tbody tr th {\n",
              "        vertical-align: top;\n",
              "    }\n",
              "\n",
              "    .dataframe thead th {\n",
              "        text-align: right;\n",
              "    }\n",
              "</style>\n",
              "<table border=\"1\" class=\"dataframe\">\n",
              "  <thead>\n",
              "    <tr style=\"text-align: right;\">\n",
              "      <th></th>\n",
              "      <th>App</th>\n",
              "      <th>Translated_Review</th>\n",
              "      <th>Sentiment</th>\n",
              "      <th>Sentiment_Polarity</th>\n",
              "      <th>Sentiment_Subjectivity</th>\n",
              "    </tr>\n",
              "  </thead>\n",
              "  <tbody>\n",
              "    <tr>\n",
              "      <th>1622</th>\n",
              "      <td>ASUS SuperNote</td>\n",
              "      <td>Awesome!!!!</td>\n",
              "      <td>Positive</td>\n",
              "      <td>1.0</td>\n",
              "      <td>1.0</td>\n",
              "    </tr>\n",
              "  </tbody>\n",
              "</table>\n",
              "</div>\n",
              "      <button class=\"colab-df-convert\" onclick=\"convertToInteractive('df-cb9a5ffb-80e5-48fc-b466-4ee9645ed5da')\"\n",
              "              title=\"Convert this dataframe to an interactive table.\"\n",
              "              style=\"display:none;\">\n",
              "        \n",
              "  <svg xmlns=\"http://www.w3.org/2000/svg\" height=\"24px\"viewBox=\"0 0 24 24\"\n",
              "       width=\"24px\">\n",
              "    <path d=\"M0 0h24v24H0V0z\" fill=\"none\"/>\n",
              "    <path d=\"M18.56 5.44l.94 2.06.94-2.06 2.06-.94-2.06-.94-.94-2.06-.94 2.06-2.06.94zm-11 1L8.5 8.5l.94-2.06 2.06-.94-2.06-.94L8.5 2.5l-.94 2.06-2.06.94zm10 10l.94 2.06.94-2.06 2.06-.94-2.06-.94-.94-2.06-.94 2.06-2.06.94z\"/><path d=\"M17.41 7.96l-1.37-1.37c-.4-.4-.92-.59-1.43-.59-.52 0-1.04.2-1.43.59L10.3 9.45l-7.72 7.72c-.78.78-.78 2.05 0 2.83L4 21.41c.39.39.9.59 1.41.59.51 0 1.02-.2 1.41-.59l7.78-7.78 2.81-2.81c.8-.78.8-2.07 0-2.86zM5.41 20L4 18.59l7.72-7.72 1.47 1.35L5.41 20z\"/>\n",
              "  </svg>\n",
              "      </button>\n",
              "      \n",
              "  <style>\n",
              "    .colab-df-container {\n",
              "      display:flex;\n",
              "      flex-wrap:wrap;\n",
              "      gap: 12px;\n",
              "    }\n",
              "\n",
              "    .colab-df-convert {\n",
              "      background-color: #E8F0FE;\n",
              "      border: none;\n",
              "      border-radius: 50%;\n",
              "      cursor: pointer;\n",
              "      display: none;\n",
              "      fill: #1967D2;\n",
              "      height: 32px;\n",
              "      padding: 0 0 0 0;\n",
              "      width: 32px;\n",
              "    }\n",
              "\n",
              "    .colab-df-convert:hover {\n",
              "      background-color: #E2EBFA;\n",
              "      box-shadow: 0px 1px 2px rgba(60, 64, 67, 0.3), 0px 1px 3px 1px rgba(60, 64, 67, 0.15);\n",
              "      fill: #174EA6;\n",
              "    }\n",
              "\n",
              "    [theme=dark] .colab-df-convert {\n",
              "      background-color: #3B4455;\n",
              "      fill: #D2E3FC;\n",
              "    }\n",
              "\n",
              "    [theme=dark] .colab-df-convert:hover {\n",
              "      background-color: #434B5C;\n",
              "      box-shadow: 0px 1px 3px 1px rgba(0, 0, 0, 0.15);\n",
              "      filter: drop-shadow(0px 1px 2px rgba(0, 0, 0, 0.3));\n",
              "      fill: #FFFFFF;\n",
              "    }\n",
              "  </style>\n",
              "\n",
              "      <script>\n",
              "        const buttonEl =\n",
              "          document.querySelector('#df-cb9a5ffb-80e5-48fc-b466-4ee9645ed5da button.colab-df-convert');\n",
              "        buttonEl.style.display =\n",
              "          google.colab.kernel.accessAllowed ? 'block' : 'none';\n",
              "\n",
              "        async function convertToInteractive(key) {\n",
              "          const element = document.querySelector('#df-cb9a5ffb-80e5-48fc-b466-4ee9645ed5da');\n",
              "          const dataTable =\n",
              "            await google.colab.kernel.invokeFunction('convertToInteractive',\n",
              "                                                     [key], {});\n",
              "          if (!dataTable) return;\n",
              "\n",
              "          const docLinkHtml = 'Like what you see? Visit the ' +\n",
              "            '<a target=\"_blank\" href=https://colab.research.google.com/notebooks/data_table.ipynb>data table notebook</a>'\n",
              "            + ' to learn more about interactive tables.';\n",
              "          element.innerHTML = '';\n",
              "          dataTable['output_type'] = 'display_data';\n",
              "          await google.colab.output.renderOutput(dataTable, element);\n",
              "          const docLink = document.createElement('div');\n",
              "          docLink.innerHTML = docLinkHtml;\n",
              "          element.appendChild(docLink);\n",
              "        }\n",
              "      </script>\n",
              "    </div>\n",
              "  </div>\n",
              "  "
            ]
          },
          "metadata": {},
          "execution_count": 76
        }
      ]
    },
    {
      "cell_type": "code",
      "source": [
        "supernote.groupby(['App'])['Translated_Review'].sum()"
      ],
      "metadata": {
        "colab": {
          "base_uri": "https://localhost:8080/"
        },
        "id": "0-S6STVHoIZG",
        "outputId": "6e604a3a-5821-4087-f9a0-beeba7b3f1fd"
      },
      "execution_count": null,
      "outputs": [
        {
          "output_type": "execute_result",
          "data": {
            "text/plain": [
              "App\n",
              "ASUS SuperNote    Awesome!!!!\n",
              "Name: Translated_Review, dtype: object"
            ]
          },
          "metadata": {},
          "execution_count": 78
        }
      ]
    },
    {
      "cell_type": "markdown",
      "source": [
        "13. Get all the neutral sentiment reviews for the app Abs Training-Burn belly fat \n"
      ],
      "metadata": {
        "id": "wOfXujbQowz6"
      }
    },
    {
      "cell_type": "code",
      "source": [
        "abs = reviews[reviews['App'] == 'Abs Training-Burn belly fat']\n",
        "abs"
      ],
      "metadata": {
        "colab": {
          "base_uri": "https://localhost:8080/",
          "height": 1000
        },
        "id": "ucZQH30jph5B",
        "outputId": "fb38ce4d-a5a0-4873-ec02-be750449372b"
      },
      "execution_count": null,
      "outputs": [
        {
          "output_type": "execute_result",
          "data": {
            "text/plain": [
              "                              App  \\\n",
              "1747  Abs Training-Burn belly fat   \n",
              "1748  Abs Training-Burn belly fat   \n",
              "1749  Abs Training-Burn belly fat   \n",
              "1750  Abs Training-Burn belly fat   \n",
              "1751  Abs Training-Burn belly fat   \n",
              "1752  Abs Training-Burn belly fat   \n",
              "1753  Abs Training-Burn belly fat   \n",
              "1754  Abs Training-Burn belly fat   \n",
              "1755  Abs Training-Burn belly fat   \n",
              "1756  Abs Training-Burn belly fat   \n",
              "1757  Abs Training-Burn belly fat   \n",
              "1758  Abs Training-Burn belly fat   \n",
              "1759  Abs Training-Burn belly fat   \n",
              "1760  Abs Training-Burn belly fat   \n",
              "1761  Abs Training-Burn belly fat   \n",
              "1762  Abs Training-Burn belly fat   \n",
              "1763  Abs Training-Burn belly fat   \n",
              "1764  Abs Training-Burn belly fat   \n",
              "1765  Abs Training-Burn belly fat   \n",
              "1766  Abs Training-Burn belly fat   \n",
              "1767  Abs Training-Burn belly fat   \n",
              "1768  Abs Training-Burn belly fat   \n",
              "1769  Abs Training-Burn belly fat   \n",
              "1770  Abs Training-Burn belly fat   \n",
              "1771  Abs Training-Burn belly fat   \n",
              "1772  Abs Training-Burn belly fat   \n",
              "1773  Abs Training-Burn belly fat   \n",
              "1774  Abs Training-Burn belly fat   \n",
              "1775  Abs Training-Burn belly fat   \n",
              "1776  Abs Training-Burn belly fat   \n",
              "1777  Abs Training-Burn belly fat   \n",
              "1778  Abs Training-Burn belly fat   \n",
              "1779  Abs Training-Burn belly fat   \n",
              "1780  Abs Training-Burn belly fat   \n",
              "1781  Abs Training-Burn belly fat   \n",
              "1782  Abs Training-Burn belly fat   \n",
              "\n",
              "                                      Translated_Review Sentiment  \\\n",
              "1747  So I tried day great, second day ( today ) lit...  Positive   \n",
              "1748  Pop-up Ads! Just installed app. Your thinking ...  Positive   \n",
              "1749  Do like full-screen ads hijacking device time?...  Negative   \n",
              "1750  I loved first, now? For past three days, even ...  Negative   \n",
              "1751  Today day one!!! It seem pretty good! I'm begi...  Positive   \n",
              "1752  It's good working out, ads hijack phone. You g...  Positive   \n",
              "1753  I liked , many ads! For instance, I could midd...  Positive   \n",
              "1754  It really help lose weight may seem little har...  Negative   \n",
              "1755  A free effective like personal trainer. I trou...  Positive   \n",
              "1756  This actually sucks constantly makes phone cra...  Negative   \n",
              "1757  I tried day painful trying get back groove...b...  Positive   \n",
              "1758  I used stomach muscles killing me. I give five...  Positive   \n",
              "1759  I dont know app, thing I don't like goes reall...  Positive   \n",
              "1760  My first day, recovering back surgeries, I mod...  Positive   \n",
              "1761  This great app. I've 11 days I feel much light...  Positive   \n",
              "1762  This great losing weight bc gives u along time...  Positive   \n",
              "1763  My first day I like takes weight I feel burn n...  Positive   \n",
              "1764  I would recommend anyone struggling exercise a...   Neutral   \n",
              "1765  Full screen, loud, annoying ads literally pop ...  Negative   \n",
              "1766      I'm sticking literally kicked booty pain gain   Neutral   \n",
              "1767  At first hurts I know I feel much better based...  Positive   \n",
              "1768    It's great really helpful. Thank youuuu much :)  Positive   \n",
              "1769  Needs work voice tells take break voice keeps ...   Neutral   \n",
              "1770  I'm first day, goes hardcore. It's I need stay...  Positive   \n",
              "1771                          I got good work first day  Positive   \n",
              "1772  I love much I first started working I never fe...  Positive   \n",
              "1773  complaining fat day found yayy hard cuz im laz...  Positive   \n",
              "1774  I started I really enjoy cause gives energy he...  Positive   \n",
              "1775  I love workouts would rated 5 stars pop ads, e...  Negative   \n",
              "1776    Pop ads middle night!!! Taking phone? F*** app!   Neutral   \n",
              "1777  I see results burns good feeling knowing I'm l...  Positive   \n",
              "1778   I day day I saw difference I went XL medium size   Neutral   \n",
              "1779  Just got today awesome everytime I squeeze bel...  Positive   \n",
              "1780            That really fun hard work way worth it.  Positive   \n",
              "1781                   like first thought \"VERY FAT\" ok  Positive   \n",
              "1782                     A good tool keep daily routine  Positive   \n",
              "\n",
              "      Sentiment_Polarity  Sentiment_Subjectivity  \n",
              "1747            0.095238                0.352656  \n",
              "1748            0.328571                0.411905  \n",
              "1749           -0.333333                0.666667  \n",
              "1750           -0.082747                0.418750  \n",
              "1751            0.625000                0.800000  \n",
              "1752            0.100000                0.550000  \n",
              "1753            0.306250                0.325000  \n",
              "1754           -0.069792                0.310417  \n",
              "1755            0.315714                0.555714  \n",
              "1756           -0.192262                0.301786  \n",
              "1757            0.175000                0.525000  \n",
              "1758            0.800000                1.000000  \n",
              "1759            0.004167                0.533333  \n",
              "1760            0.040625                0.308333  \n",
              "1761            0.400000                0.350000  \n",
              "1762            0.600000                0.537500  \n",
              "1763            0.383333                0.694444  \n",
              "1764            0.000000                0.000000  \n",
              "1765           -0.212500                0.687500  \n",
              "1766            0.000000                0.000000  \n",
              "1767            0.412500                0.483333  \n",
              "1768            0.425000                0.537500  \n",
              "1769            0.000000                0.000000  \n",
              "1770            0.321591                0.433333  \n",
              "1771            0.475000                0.466667  \n",
              "1772            0.187500                0.683333  \n",
              "1773            0.086111                0.763889  \n",
              "1774            0.450000                0.500000  \n",
              "1775           -0.133333                0.533333  \n",
              "1776            0.000000                0.000000  \n",
              "1777            0.700000                0.600000  \n",
              "1778            0.000000                0.000000  \n",
              "1779            0.850000                0.800000  \n",
              "1780            0.102778                0.280556  \n",
              "1781            0.316667                0.377778  \n",
              "1782            0.350000                0.300000  "
            ],
            "text/html": [
              "\n",
              "  <div id=\"df-01407981-94a9-4e31-8640-ecec4ca72861\">\n",
              "    <div class=\"colab-df-container\">\n",
              "      <div>\n",
              "<style scoped>\n",
              "    .dataframe tbody tr th:only-of-type {\n",
              "        vertical-align: middle;\n",
              "    }\n",
              "\n",
              "    .dataframe tbody tr th {\n",
              "        vertical-align: top;\n",
              "    }\n",
              "\n",
              "    .dataframe thead th {\n",
              "        text-align: right;\n",
              "    }\n",
              "</style>\n",
              "<table border=\"1\" class=\"dataframe\">\n",
              "  <thead>\n",
              "    <tr style=\"text-align: right;\">\n",
              "      <th></th>\n",
              "      <th>App</th>\n",
              "      <th>Translated_Review</th>\n",
              "      <th>Sentiment</th>\n",
              "      <th>Sentiment_Polarity</th>\n",
              "      <th>Sentiment_Subjectivity</th>\n",
              "    </tr>\n",
              "  </thead>\n",
              "  <tbody>\n",
              "    <tr>\n",
              "      <th>1747</th>\n",
              "      <td>Abs Training-Burn belly fat</td>\n",
              "      <td>So I tried day great, second day ( today ) lit...</td>\n",
              "      <td>Positive</td>\n",
              "      <td>0.095238</td>\n",
              "      <td>0.352656</td>\n",
              "    </tr>\n",
              "    <tr>\n",
              "      <th>1748</th>\n",
              "      <td>Abs Training-Burn belly fat</td>\n",
              "      <td>Pop-up Ads! Just installed app. Your thinking ...</td>\n",
              "      <td>Positive</td>\n",
              "      <td>0.328571</td>\n",
              "      <td>0.411905</td>\n",
              "    </tr>\n",
              "    <tr>\n",
              "      <th>1749</th>\n",
              "      <td>Abs Training-Burn belly fat</td>\n",
              "      <td>Do like full-screen ads hijacking device time?...</td>\n",
              "      <td>Negative</td>\n",
              "      <td>-0.333333</td>\n",
              "      <td>0.666667</td>\n",
              "    </tr>\n",
              "    <tr>\n",
              "      <th>1750</th>\n",
              "      <td>Abs Training-Burn belly fat</td>\n",
              "      <td>I loved first, now? For past three days, even ...</td>\n",
              "      <td>Negative</td>\n",
              "      <td>-0.082747</td>\n",
              "      <td>0.418750</td>\n",
              "    </tr>\n",
              "    <tr>\n",
              "      <th>1751</th>\n",
              "      <td>Abs Training-Burn belly fat</td>\n",
              "      <td>Today day one!!! It seem pretty good! I'm begi...</td>\n",
              "      <td>Positive</td>\n",
              "      <td>0.625000</td>\n",
              "      <td>0.800000</td>\n",
              "    </tr>\n",
              "    <tr>\n",
              "      <th>1752</th>\n",
              "      <td>Abs Training-Burn belly fat</td>\n",
              "      <td>It's good working out, ads hijack phone. You g...</td>\n",
              "      <td>Positive</td>\n",
              "      <td>0.100000</td>\n",
              "      <td>0.550000</td>\n",
              "    </tr>\n",
              "    <tr>\n",
              "      <th>1753</th>\n",
              "      <td>Abs Training-Burn belly fat</td>\n",
              "      <td>I liked , many ads! For instance, I could midd...</td>\n",
              "      <td>Positive</td>\n",
              "      <td>0.306250</td>\n",
              "      <td>0.325000</td>\n",
              "    </tr>\n",
              "    <tr>\n",
              "      <th>1754</th>\n",
              "      <td>Abs Training-Burn belly fat</td>\n",
              "      <td>It really help lose weight may seem little har...</td>\n",
              "      <td>Negative</td>\n",
              "      <td>-0.069792</td>\n",
              "      <td>0.310417</td>\n",
              "    </tr>\n",
              "    <tr>\n",
              "      <th>1755</th>\n",
              "      <td>Abs Training-Burn belly fat</td>\n",
              "      <td>A free effective like personal trainer. I trou...</td>\n",
              "      <td>Positive</td>\n",
              "      <td>0.315714</td>\n",
              "      <td>0.555714</td>\n",
              "    </tr>\n",
              "    <tr>\n",
              "      <th>1756</th>\n",
              "      <td>Abs Training-Burn belly fat</td>\n",
              "      <td>This actually sucks constantly makes phone cra...</td>\n",
              "      <td>Negative</td>\n",
              "      <td>-0.192262</td>\n",
              "      <td>0.301786</td>\n",
              "    </tr>\n",
              "    <tr>\n",
              "      <th>1757</th>\n",
              "      <td>Abs Training-Burn belly fat</td>\n",
              "      <td>I tried day painful trying get back groove...b...</td>\n",
              "      <td>Positive</td>\n",
              "      <td>0.175000</td>\n",
              "      <td>0.525000</td>\n",
              "    </tr>\n",
              "    <tr>\n",
              "      <th>1758</th>\n",
              "      <td>Abs Training-Burn belly fat</td>\n",
              "      <td>I used stomach muscles killing me. I give five...</td>\n",
              "      <td>Positive</td>\n",
              "      <td>0.800000</td>\n",
              "      <td>1.000000</td>\n",
              "    </tr>\n",
              "    <tr>\n",
              "      <th>1759</th>\n",
              "      <td>Abs Training-Burn belly fat</td>\n",
              "      <td>I dont know app, thing I don't like goes reall...</td>\n",
              "      <td>Positive</td>\n",
              "      <td>0.004167</td>\n",
              "      <td>0.533333</td>\n",
              "    </tr>\n",
              "    <tr>\n",
              "      <th>1760</th>\n",
              "      <td>Abs Training-Burn belly fat</td>\n",
              "      <td>My first day, recovering back surgeries, I mod...</td>\n",
              "      <td>Positive</td>\n",
              "      <td>0.040625</td>\n",
              "      <td>0.308333</td>\n",
              "    </tr>\n",
              "    <tr>\n",
              "      <th>1761</th>\n",
              "      <td>Abs Training-Burn belly fat</td>\n",
              "      <td>This great app. I've 11 days I feel much light...</td>\n",
              "      <td>Positive</td>\n",
              "      <td>0.400000</td>\n",
              "      <td>0.350000</td>\n",
              "    </tr>\n",
              "    <tr>\n",
              "      <th>1762</th>\n",
              "      <td>Abs Training-Burn belly fat</td>\n",
              "      <td>This great losing weight bc gives u along time...</td>\n",
              "      <td>Positive</td>\n",
              "      <td>0.600000</td>\n",
              "      <td>0.537500</td>\n",
              "    </tr>\n",
              "    <tr>\n",
              "      <th>1763</th>\n",
              "      <td>Abs Training-Burn belly fat</td>\n",
              "      <td>My first day I like takes weight I feel burn n...</td>\n",
              "      <td>Positive</td>\n",
              "      <td>0.383333</td>\n",
              "      <td>0.694444</td>\n",
              "    </tr>\n",
              "    <tr>\n",
              "      <th>1764</th>\n",
              "      <td>Abs Training-Burn belly fat</td>\n",
              "      <td>I would recommend anyone struggling exercise a...</td>\n",
              "      <td>Neutral</td>\n",
              "      <td>0.000000</td>\n",
              "      <td>0.000000</td>\n",
              "    </tr>\n",
              "    <tr>\n",
              "      <th>1765</th>\n",
              "      <td>Abs Training-Burn belly fat</td>\n",
              "      <td>Full screen, loud, annoying ads literally pop ...</td>\n",
              "      <td>Negative</td>\n",
              "      <td>-0.212500</td>\n",
              "      <td>0.687500</td>\n",
              "    </tr>\n",
              "    <tr>\n",
              "      <th>1766</th>\n",
              "      <td>Abs Training-Burn belly fat</td>\n",
              "      <td>I'm sticking literally kicked booty pain gain</td>\n",
              "      <td>Neutral</td>\n",
              "      <td>0.000000</td>\n",
              "      <td>0.000000</td>\n",
              "    </tr>\n",
              "    <tr>\n",
              "      <th>1767</th>\n",
              "      <td>Abs Training-Burn belly fat</td>\n",
              "      <td>At first hurts I know I feel much better based...</td>\n",
              "      <td>Positive</td>\n",
              "      <td>0.412500</td>\n",
              "      <td>0.483333</td>\n",
              "    </tr>\n",
              "    <tr>\n",
              "      <th>1768</th>\n",
              "      <td>Abs Training-Burn belly fat</td>\n",
              "      <td>It's great really helpful. Thank youuuu much :)</td>\n",
              "      <td>Positive</td>\n",
              "      <td>0.425000</td>\n",
              "      <td>0.537500</td>\n",
              "    </tr>\n",
              "    <tr>\n",
              "      <th>1769</th>\n",
              "      <td>Abs Training-Burn belly fat</td>\n",
              "      <td>Needs work voice tells take break voice keeps ...</td>\n",
              "      <td>Neutral</td>\n",
              "      <td>0.000000</td>\n",
              "      <td>0.000000</td>\n",
              "    </tr>\n",
              "    <tr>\n",
              "      <th>1770</th>\n",
              "      <td>Abs Training-Burn belly fat</td>\n",
              "      <td>I'm first day, goes hardcore. It's I need stay...</td>\n",
              "      <td>Positive</td>\n",
              "      <td>0.321591</td>\n",
              "      <td>0.433333</td>\n",
              "    </tr>\n",
              "    <tr>\n",
              "      <th>1771</th>\n",
              "      <td>Abs Training-Burn belly fat</td>\n",
              "      <td>I got good work first day</td>\n",
              "      <td>Positive</td>\n",
              "      <td>0.475000</td>\n",
              "      <td>0.466667</td>\n",
              "    </tr>\n",
              "    <tr>\n",
              "      <th>1772</th>\n",
              "      <td>Abs Training-Burn belly fat</td>\n",
              "      <td>I love much I first started working I never fe...</td>\n",
              "      <td>Positive</td>\n",
              "      <td>0.187500</td>\n",
              "      <td>0.683333</td>\n",
              "    </tr>\n",
              "    <tr>\n",
              "      <th>1773</th>\n",
              "      <td>Abs Training-Burn belly fat</td>\n",
              "      <td>complaining fat day found yayy hard cuz im laz...</td>\n",
              "      <td>Positive</td>\n",
              "      <td>0.086111</td>\n",
              "      <td>0.763889</td>\n",
              "    </tr>\n",
              "    <tr>\n",
              "      <th>1774</th>\n",
              "      <td>Abs Training-Burn belly fat</td>\n",
              "      <td>I started I really enjoy cause gives energy he...</td>\n",
              "      <td>Positive</td>\n",
              "      <td>0.450000</td>\n",
              "      <td>0.500000</td>\n",
              "    </tr>\n",
              "    <tr>\n",
              "      <th>1775</th>\n",
              "      <td>Abs Training-Burn belly fat</td>\n",
              "      <td>I love workouts would rated 5 stars pop ads, e...</td>\n",
              "      <td>Negative</td>\n",
              "      <td>-0.133333</td>\n",
              "      <td>0.533333</td>\n",
              "    </tr>\n",
              "    <tr>\n",
              "      <th>1776</th>\n",
              "      <td>Abs Training-Burn belly fat</td>\n",
              "      <td>Pop ads middle night!!! Taking phone? F*** app!</td>\n",
              "      <td>Neutral</td>\n",
              "      <td>0.000000</td>\n",
              "      <td>0.000000</td>\n",
              "    </tr>\n",
              "    <tr>\n",
              "      <th>1777</th>\n",
              "      <td>Abs Training-Burn belly fat</td>\n",
              "      <td>I see results burns good feeling knowing I'm l...</td>\n",
              "      <td>Positive</td>\n",
              "      <td>0.700000</td>\n",
              "      <td>0.600000</td>\n",
              "    </tr>\n",
              "    <tr>\n",
              "      <th>1778</th>\n",
              "      <td>Abs Training-Burn belly fat</td>\n",
              "      <td>I day day I saw difference I went XL medium size</td>\n",
              "      <td>Neutral</td>\n",
              "      <td>0.000000</td>\n",
              "      <td>0.000000</td>\n",
              "    </tr>\n",
              "    <tr>\n",
              "      <th>1779</th>\n",
              "      <td>Abs Training-Burn belly fat</td>\n",
              "      <td>Just got today awesome everytime I squeeze bel...</td>\n",
              "      <td>Positive</td>\n",
              "      <td>0.850000</td>\n",
              "      <td>0.800000</td>\n",
              "    </tr>\n",
              "    <tr>\n",
              "      <th>1780</th>\n",
              "      <td>Abs Training-Burn belly fat</td>\n",
              "      <td>That really fun hard work way worth it.</td>\n",
              "      <td>Positive</td>\n",
              "      <td>0.102778</td>\n",
              "      <td>0.280556</td>\n",
              "    </tr>\n",
              "    <tr>\n",
              "      <th>1781</th>\n",
              "      <td>Abs Training-Burn belly fat</td>\n",
              "      <td>like first thought \"VERY FAT\" ok</td>\n",
              "      <td>Positive</td>\n",
              "      <td>0.316667</td>\n",
              "      <td>0.377778</td>\n",
              "    </tr>\n",
              "    <tr>\n",
              "      <th>1782</th>\n",
              "      <td>Abs Training-Burn belly fat</td>\n",
              "      <td>A good tool keep daily routine</td>\n",
              "      <td>Positive</td>\n",
              "      <td>0.350000</td>\n",
              "      <td>0.300000</td>\n",
              "    </tr>\n",
              "  </tbody>\n",
              "</table>\n",
              "</div>\n",
              "      <button class=\"colab-df-convert\" onclick=\"convertToInteractive('df-01407981-94a9-4e31-8640-ecec4ca72861')\"\n",
              "              title=\"Convert this dataframe to an interactive table.\"\n",
              "              style=\"display:none;\">\n",
              "        \n",
              "  <svg xmlns=\"http://www.w3.org/2000/svg\" height=\"24px\"viewBox=\"0 0 24 24\"\n",
              "       width=\"24px\">\n",
              "    <path d=\"M0 0h24v24H0V0z\" fill=\"none\"/>\n",
              "    <path d=\"M18.56 5.44l.94 2.06.94-2.06 2.06-.94-2.06-.94-.94-2.06-.94 2.06-2.06.94zm-11 1L8.5 8.5l.94-2.06 2.06-.94-2.06-.94L8.5 2.5l-.94 2.06-2.06.94zm10 10l.94 2.06.94-2.06 2.06-.94-2.06-.94-.94-2.06-.94 2.06-2.06.94z\"/><path d=\"M17.41 7.96l-1.37-1.37c-.4-.4-.92-.59-1.43-.59-.52 0-1.04.2-1.43.59L10.3 9.45l-7.72 7.72c-.78.78-.78 2.05 0 2.83L4 21.41c.39.39.9.59 1.41.59.51 0 1.02-.2 1.41-.59l7.78-7.78 2.81-2.81c.8-.78.8-2.07 0-2.86zM5.41 20L4 18.59l7.72-7.72 1.47 1.35L5.41 20z\"/>\n",
              "  </svg>\n",
              "      </button>\n",
              "      \n",
              "  <style>\n",
              "    .colab-df-container {\n",
              "      display:flex;\n",
              "      flex-wrap:wrap;\n",
              "      gap: 12px;\n",
              "    }\n",
              "\n",
              "    .colab-df-convert {\n",
              "      background-color: #E8F0FE;\n",
              "      border: none;\n",
              "      border-radius: 50%;\n",
              "      cursor: pointer;\n",
              "      display: none;\n",
              "      fill: #1967D2;\n",
              "      height: 32px;\n",
              "      padding: 0 0 0 0;\n",
              "      width: 32px;\n",
              "    }\n",
              "\n",
              "    .colab-df-convert:hover {\n",
              "      background-color: #E2EBFA;\n",
              "      box-shadow: 0px 1px 2px rgba(60, 64, 67, 0.3), 0px 1px 3px 1px rgba(60, 64, 67, 0.15);\n",
              "      fill: #174EA6;\n",
              "    }\n",
              "\n",
              "    [theme=dark] .colab-df-convert {\n",
              "      background-color: #3B4455;\n",
              "      fill: #D2E3FC;\n",
              "    }\n",
              "\n",
              "    [theme=dark] .colab-df-convert:hover {\n",
              "      background-color: #434B5C;\n",
              "      box-shadow: 0px 1px 3px 1px rgba(0, 0, 0, 0.15);\n",
              "      filter: drop-shadow(0px 1px 2px rgba(0, 0, 0, 0.3));\n",
              "      fill: #FFFFFF;\n",
              "    }\n",
              "  </style>\n",
              "\n",
              "      <script>\n",
              "        const buttonEl =\n",
              "          document.querySelector('#df-01407981-94a9-4e31-8640-ecec4ca72861 button.colab-df-convert');\n",
              "        buttonEl.style.display =\n",
              "          google.colab.kernel.accessAllowed ? 'block' : 'none';\n",
              "\n",
              "        async function convertToInteractive(key) {\n",
              "          const element = document.querySelector('#df-01407981-94a9-4e31-8640-ecec4ca72861');\n",
              "          const dataTable =\n",
              "            await google.colab.kernel.invokeFunction('convertToInteractive',\n",
              "                                                     [key], {});\n",
              "          if (!dataTable) return;\n",
              "\n",
              "          const docLinkHtml = 'Like what you see? Visit the ' +\n",
              "            '<a target=\"_blank\" href=https://colab.research.google.com/notebooks/data_table.ipynb>data table notebook</a>'\n",
              "            + ' to learn more about interactive tables.';\n",
              "          element.innerHTML = '';\n",
              "          dataTable['output_type'] = 'display_data';\n",
              "          await google.colab.output.renderOutput(dataTable, element);\n",
              "          const docLink = document.createElement('div');\n",
              "          docLink.innerHTML = docLinkHtml;\n",
              "          element.appendChild(docLink);\n",
              "        }\n",
              "      </script>\n",
              "    </div>\n",
              "  </div>\n",
              "  "
            ]
          },
          "metadata": {},
          "execution_count": 79
        }
      ]
    },
    {
      "cell_type": "code",
      "source": [
        "abs = abs[abs['Sentiment'] == 'Neutral']\n",
        "abs"
      ],
      "metadata": {
        "colab": {
          "base_uri": "https://localhost:8080/",
          "height": 206
        },
        "id": "tpVViDhnfLk5",
        "outputId": "14690288-290d-4099-ab44-84067e8dce66"
      },
      "execution_count": null,
      "outputs": [
        {
          "output_type": "execute_result",
          "data": {
            "text/plain": [
              "                              App  \\\n",
              "1764  Abs Training-Burn belly fat   \n",
              "1766  Abs Training-Burn belly fat   \n",
              "1769  Abs Training-Burn belly fat   \n",
              "1776  Abs Training-Burn belly fat   \n",
              "1778  Abs Training-Burn belly fat   \n",
              "\n",
              "                                      Translated_Review Sentiment  \\\n",
              "1764  I would recommend anyone struggling exercise a...   Neutral   \n",
              "1766      I'm sticking literally kicked booty pain gain   Neutral   \n",
              "1769  Needs work voice tells take break voice keeps ...   Neutral   \n",
              "1776    Pop ads middle night!!! Taking phone? F*** app!   Neutral   \n",
              "1778   I day day I saw difference I went XL medium size   Neutral   \n",
              "\n",
              "      Sentiment_Polarity  Sentiment_Subjectivity  \n",
              "1764                 0.0                     0.0  \n",
              "1766                 0.0                     0.0  \n",
              "1769                 0.0                     0.0  \n",
              "1776                 0.0                     0.0  \n",
              "1778                 0.0                     0.0  "
            ],
            "text/html": [
              "\n",
              "  <div id=\"df-07dcddd4-b724-4549-a0b9-8a32d9196af0\">\n",
              "    <div class=\"colab-df-container\">\n",
              "      <div>\n",
              "<style scoped>\n",
              "    .dataframe tbody tr th:only-of-type {\n",
              "        vertical-align: middle;\n",
              "    }\n",
              "\n",
              "    .dataframe tbody tr th {\n",
              "        vertical-align: top;\n",
              "    }\n",
              "\n",
              "    .dataframe thead th {\n",
              "        text-align: right;\n",
              "    }\n",
              "</style>\n",
              "<table border=\"1\" class=\"dataframe\">\n",
              "  <thead>\n",
              "    <tr style=\"text-align: right;\">\n",
              "      <th></th>\n",
              "      <th>App</th>\n",
              "      <th>Translated_Review</th>\n",
              "      <th>Sentiment</th>\n",
              "      <th>Sentiment_Polarity</th>\n",
              "      <th>Sentiment_Subjectivity</th>\n",
              "    </tr>\n",
              "  </thead>\n",
              "  <tbody>\n",
              "    <tr>\n",
              "      <th>1764</th>\n",
              "      <td>Abs Training-Burn belly fat</td>\n",
              "      <td>I would recommend anyone struggling exercise a...</td>\n",
              "      <td>Neutral</td>\n",
              "      <td>0.0</td>\n",
              "      <td>0.0</td>\n",
              "    </tr>\n",
              "    <tr>\n",
              "      <th>1766</th>\n",
              "      <td>Abs Training-Burn belly fat</td>\n",
              "      <td>I'm sticking literally kicked booty pain gain</td>\n",
              "      <td>Neutral</td>\n",
              "      <td>0.0</td>\n",
              "      <td>0.0</td>\n",
              "    </tr>\n",
              "    <tr>\n",
              "      <th>1769</th>\n",
              "      <td>Abs Training-Burn belly fat</td>\n",
              "      <td>Needs work voice tells take break voice keeps ...</td>\n",
              "      <td>Neutral</td>\n",
              "      <td>0.0</td>\n",
              "      <td>0.0</td>\n",
              "    </tr>\n",
              "    <tr>\n",
              "      <th>1776</th>\n",
              "      <td>Abs Training-Burn belly fat</td>\n",
              "      <td>Pop ads middle night!!! Taking phone? F*** app!</td>\n",
              "      <td>Neutral</td>\n",
              "      <td>0.0</td>\n",
              "      <td>0.0</td>\n",
              "    </tr>\n",
              "    <tr>\n",
              "      <th>1778</th>\n",
              "      <td>Abs Training-Burn belly fat</td>\n",
              "      <td>I day day I saw difference I went XL medium size</td>\n",
              "      <td>Neutral</td>\n",
              "      <td>0.0</td>\n",
              "      <td>0.0</td>\n",
              "    </tr>\n",
              "  </tbody>\n",
              "</table>\n",
              "</div>\n",
              "      <button class=\"colab-df-convert\" onclick=\"convertToInteractive('df-07dcddd4-b724-4549-a0b9-8a32d9196af0')\"\n",
              "              title=\"Convert this dataframe to an interactive table.\"\n",
              "              style=\"display:none;\">\n",
              "        \n",
              "  <svg xmlns=\"http://www.w3.org/2000/svg\" height=\"24px\"viewBox=\"0 0 24 24\"\n",
              "       width=\"24px\">\n",
              "    <path d=\"M0 0h24v24H0V0z\" fill=\"none\"/>\n",
              "    <path d=\"M18.56 5.44l.94 2.06.94-2.06 2.06-.94-2.06-.94-.94-2.06-.94 2.06-2.06.94zm-11 1L8.5 8.5l.94-2.06 2.06-.94-2.06-.94L8.5 2.5l-.94 2.06-2.06.94zm10 10l.94 2.06.94-2.06 2.06-.94-2.06-.94-.94-2.06-.94 2.06-2.06.94z\"/><path d=\"M17.41 7.96l-1.37-1.37c-.4-.4-.92-.59-1.43-.59-.52 0-1.04.2-1.43.59L10.3 9.45l-7.72 7.72c-.78.78-.78 2.05 0 2.83L4 21.41c.39.39.9.59 1.41.59.51 0 1.02-.2 1.41-.59l7.78-7.78 2.81-2.81c.8-.78.8-2.07 0-2.86zM5.41 20L4 18.59l7.72-7.72 1.47 1.35L5.41 20z\"/>\n",
              "  </svg>\n",
              "      </button>\n",
              "      \n",
              "  <style>\n",
              "    .colab-df-container {\n",
              "      display:flex;\n",
              "      flex-wrap:wrap;\n",
              "      gap: 12px;\n",
              "    }\n",
              "\n",
              "    .colab-df-convert {\n",
              "      background-color: #E8F0FE;\n",
              "      border: none;\n",
              "      border-radius: 50%;\n",
              "      cursor: pointer;\n",
              "      display: none;\n",
              "      fill: #1967D2;\n",
              "      height: 32px;\n",
              "      padding: 0 0 0 0;\n",
              "      width: 32px;\n",
              "    }\n",
              "\n",
              "    .colab-df-convert:hover {\n",
              "      background-color: #E2EBFA;\n",
              "      box-shadow: 0px 1px 2px rgba(60, 64, 67, 0.3), 0px 1px 3px 1px rgba(60, 64, 67, 0.15);\n",
              "      fill: #174EA6;\n",
              "    }\n",
              "\n",
              "    [theme=dark] .colab-df-convert {\n",
              "      background-color: #3B4455;\n",
              "      fill: #D2E3FC;\n",
              "    }\n",
              "\n",
              "    [theme=dark] .colab-df-convert:hover {\n",
              "      background-color: #434B5C;\n",
              "      box-shadow: 0px 1px 3px 1px rgba(0, 0, 0, 0.15);\n",
              "      filter: drop-shadow(0px 1px 2px rgba(0, 0, 0, 0.3));\n",
              "      fill: #FFFFFF;\n",
              "    }\n",
              "  </style>\n",
              "\n",
              "      <script>\n",
              "        const buttonEl =\n",
              "          document.querySelector('#df-07dcddd4-b724-4549-a0b9-8a32d9196af0 button.colab-df-convert');\n",
              "        buttonEl.style.display =\n",
              "          google.colab.kernel.accessAllowed ? 'block' : 'none';\n",
              "\n",
              "        async function convertToInteractive(key) {\n",
              "          const element = document.querySelector('#df-07dcddd4-b724-4549-a0b9-8a32d9196af0');\n",
              "          const dataTable =\n",
              "            await google.colab.kernel.invokeFunction('convertToInteractive',\n",
              "                                                     [key], {});\n",
              "          if (!dataTable) return;\n",
              "\n",
              "          const docLinkHtml = 'Like what you see? Visit the ' +\n",
              "            '<a target=\"_blank\" href=https://colab.research.google.com/notebooks/data_table.ipynb>data table notebook</a>'\n",
              "            + ' to learn more about interactive tables.';\n",
              "          element.innerHTML = '';\n",
              "          dataTable['output_type'] = 'display_data';\n",
              "          await google.colab.output.renderOutput(dataTable, element);\n",
              "          const docLink = document.createElement('div');\n",
              "          docLink.innerHTML = docLinkHtml;\n",
              "          element.appendChild(docLink);\n",
              "        }\n",
              "      </script>\n",
              "    </div>\n",
              "  </div>\n",
              "  "
            ]
          },
          "metadata": {},
          "execution_count": 80
        }
      ]
    },
    {
      "cell_type": "code",
      "source": [
        "abs.groupby(['App'])[['Translated_Review', 'Sentiment']]"
      ],
      "metadata": {
        "colab": {
          "base_uri": "https://localhost:8080/"
        },
        "id": "IgP_vC6nfLai",
        "outputId": "80b83702-7593-4a0d-f142-79821048d51c"
      },
      "execution_count": null,
      "outputs": [
        {
          "output_type": "execute_result",
          "data": {
            "text/plain": [
              "<pandas.core.groupby.generic.DataFrameGroupBy object at 0x7eff4c0e9e20>"
            ]
          },
          "metadata": {},
          "execution_count": 84
        }
      ]
    },
    {
      "cell_type": "markdown",
      "source": [
        "14. Extract all negatiive sentiments reviews for Adobe Acrobat Reader with their Sentiment Polarity and Sentiment Subjectivity"
      ],
      "metadata": {
        "id": "_QZhhhl9q5Kl"
      }
    },
    {
      "cell_type": "code",
      "source": [
        "adobe = reviews[reviews['App'] == 'Adobe Acrobat Reader']"
      ],
      "metadata": {
        "id": "gzKUpQqsq4zu"
      },
      "execution_count": null,
      "outputs": []
    },
    {
      "cell_type": "code",
      "source": [
        "adobe = adobe[reviews['Sentiment'] == 'Negative']"
      ],
      "metadata": {
        "colab": {
          "base_uri": "https://localhost:8080/"
        },
        "id": "weToQgB6q4xQ",
        "outputId": "cdd3f657-7d73-4bbb-ab5d-497f884833ac"
      },
      "execution_count": null,
      "outputs": [
        {
          "output_type": "stream",
          "name": "stderr",
          "text": [
            "<ipython-input-86-c87f66fba186>:1: UserWarning: Boolean Series key will be reindexed to match DataFrame index.\n",
            "  adobe = adobe[reviews['Sentiment'] == 'Negative']\n"
          ]
        }
      ]
    },
    {
      "cell_type": "code",
      "source": [
        "adobe"
      ],
      "metadata": {
        "colab": {
          "base_uri": "https://localhost:8080/",
          "height": 676
        },
        "id": "svXmkGjOq4uB",
        "outputId": "e129454f-9f73-4878-8a4f-e88300eab366"
      },
      "execution_count": null,
      "outputs": [
        {
          "output_type": "execute_result",
          "data": {
            "text/plain": [
              "                       App                                  Translated_Review  \\\n",
              "2030  Adobe Acrobat Reader  Not Another Damn Cloud Account! I want another...   \n",
              "2038  Adobe Acrobat Reader  The previous versions good enough.... This upd...   \n",
              "2039  Adobe Acrobat Reader  Hey Pls update app.... I'm face issues... When...   \n",
              "2054  Adobe Acrobat Reader  Forces account password means Google knowledge...   \n",
              "2058  Adobe Acrobat Reader  Too boring. I'm trying scan document give opti...   \n",
              "2063  Adobe Acrobat Reader  After using adobe iphone, version annoying. Do...   \n",
              "2065  Adobe Acrobat Reader  Love app. Hate file manager. Open file saved d...   \n",
              "2067  Adobe Acrobat Reader  It's difficult select text stupid pg # functio...   \n",
              "2069  Adobe Acrobat Reader  It's actually terrible. The biggest flaw retur...   \n",
              "2074  Adobe Acrobat Reader  Its like I using ghost...it keeps scrolling pa...   \n",
              "2082  Adobe Acrobat Reader  Adobe removed option saving changes pdfs local...   \n",
              "2086  Adobe Acrobat Reader  If wish EXPORT, give birthdate!!!! What? A mob...   \n",
              "2087  Adobe Acrobat Reader  Does exactly PC based version.Brilliant! At la...   \n",
              "2090  Adobe Acrobat Reader  This sux saves cloud. Unless im missing someth...   \n",
              "2093  Adobe Acrobat Reader  Stupid app. Whenever I open pdf file making co...   \n",
              "2095  Adobe Acrobat Reader  This almost everything I need pdfs unfortunate...   \n",
              "2096  Adobe Acrobat Reader  It good app. But problem unable share photos i...   \n",
              "2105  Adobe Acrobat Reader               Apparently I log view pdf... Idiotic   \n",
              "2108  Adobe Acrobat Reader  Very little usefulness keep getting messages r...   \n",
              "2114  Adobe Acrobat Reader  Can't rename documents latest update. Using An...   \n",
              "\n",
              "     Sentiment  Sentiment_Polarity  Sentiment_Subjectivity  \n",
              "2030  Negative           -0.300000                0.700000  \n",
              "2038  Negative           -0.144444                0.561111  \n",
              "2039  Negative           -0.012500                0.345833  \n",
              "2054  Negative           -0.275000                0.566667  \n",
              "2058  Negative           -0.300000                0.488889  \n",
              "2063  Negative           -0.200000                0.552381  \n",
              "2065  Negative           -0.075000                0.593750  \n",
              "2067  Negative           -0.575000                0.900000  \n",
              "2069  Negative           -0.275000                0.525000  \n",
              "2074  Negative           -0.275000                0.950000  \n",
              "2082  Negative           -0.087500                0.520833  \n",
              "2086  Negative           -0.125000                0.500000  \n",
              "2087  Negative           -0.229167                0.438889  \n",
              "2090  Negative           -0.200000                0.050000  \n",
              "2093  Negative           -0.106250                0.718750  \n",
              "2095  Negative           -0.062500                0.558333  \n",
              "2096  Negative           -0.100000                0.533333  \n",
              "2105  Negative           -0.308333                0.591667  \n",
              "2108  Negative           -0.464844                0.425000  \n",
              "2114  Negative           -0.250000                0.933333  "
            ],
            "text/html": [
              "\n",
              "  <div id=\"df-4e585221-8188-440f-9b29-e8285326858d\">\n",
              "    <div class=\"colab-df-container\">\n",
              "      <div>\n",
              "<style scoped>\n",
              "    .dataframe tbody tr th:only-of-type {\n",
              "        vertical-align: middle;\n",
              "    }\n",
              "\n",
              "    .dataframe tbody tr th {\n",
              "        vertical-align: top;\n",
              "    }\n",
              "\n",
              "    .dataframe thead th {\n",
              "        text-align: right;\n",
              "    }\n",
              "</style>\n",
              "<table border=\"1\" class=\"dataframe\">\n",
              "  <thead>\n",
              "    <tr style=\"text-align: right;\">\n",
              "      <th></th>\n",
              "      <th>App</th>\n",
              "      <th>Translated_Review</th>\n",
              "      <th>Sentiment</th>\n",
              "      <th>Sentiment_Polarity</th>\n",
              "      <th>Sentiment_Subjectivity</th>\n",
              "    </tr>\n",
              "  </thead>\n",
              "  <tbody>\n",
              "    <tr>\n",
              "      <th>2030</th>\n",
              "      <td>Adobe Acrobat Reader</td>\n",
              "      <td>Not Another Damn Cloud Account! I want another...</td>\n",
              "      <td>Negative</td>\n",
              "      <td>-0.300000</td>\n",
              "      <td>0.700000</td>\n",
              "    </tr>\n",
              "    <tr>\n",
              "      <th>2038</th>\n",
              "      <td>Adobe Acrobat Reader</td>\n",
              "      <td>The previous versions good enough.... This upd...</td>\n",
              "      <td>Negative</td>\n",
              "      <td>-0.144444</td>\n",
              "      <td>0.561111</td>\n",
              "    </tr>\n",
              "    <tr>\n",
              "      <th>2039</th>\n",
              "      <td>Adobe Acrobat Reader</td>\n",
              "      <td>Hey Pls update app.... I'm face issues... When...</td>\n",
              "      <td>Negative</td>\n",
              "      <td>-0.012500</td>\n",
              "      <td>0.345833</td>\n",
              "    </tr>\n",
              "    <tr>\n",
              "      <th>2054</th>\n",
              "      <td>Adobe Acrobat Reader</td>\n",
              "      <td>Forces account password means Google knowledge...</td>\n",
              "      <td>Negative</td>\n",
              "      <td>-0.275000</td>\n",
              "      <td>0.566667</td>\n",
              "    </tr>\n",
              "    <tr>\n",
              "      <th>2058</th>\n",
              "      <td>Adobe Acrobat Reader</td>\n",
              "      <td>Too boring. I'm trying scan document give opti...</td>\n",
              "      <td>Negative</td>\n",
              "      <td>-0.300000</td>\n",
              "      <td>0.488889</td>\n",
              "    </tr>\n",
              "    <tr>\n",
              "      <th>2063</th>\n",
              "      <td>Adobe Acrobat Reader</td>\n",
              "      <td>After using adobe iphone, version annoying. Do...</td>\n",
              "      <td>Negative</td>\n",
              "      <td>-0.200000</td>\n",
              "      <td>0.552381</td>\n",
              "    </tr>\n",
              "    <tr>\n",
              "      <th>2065</th>\n",
              "      <td>Adobe Acrobat Reader</td>\n",
              "      <td>Love app. Hate file manager. Open file saved d...</td>\n",
              "      <td>Negative</td>\n",
              "      <td>-0.075000</td>\n",
              "      <td>0.593750</td>\n",
              "    </tr>\n",
              "    <tr>\n",
              "      <th>2067</th>\n",
              "      <td>Adobe Acrobat Reader</td>\n",
              "      <td>It's difficult select text stupid pg # functio...</td>\n",
              "      <td>Negative</td>\n",
              "      <td>-0.575000</td>\n",
              "      <td>0.900000</td>\n",
              "    </tr>\n",
              "    <tr>\n",
              "      <th>2069</th>\n",
              "      <td>Adobe Acrobat Reader</td>\n",
              "      <td>It's actually terrible. The biggest flaw retur...</td>\n",
              "      <td>Negative</td>\n",
              "      <td>-0.275000</td>\n",
              "      <td>0.525000</td>\n",
              "    </tr>\n",
              "    <tr>\n",
              "      <th>2074</th>\n",
              "      <td>Adobe Acrobat Reader</td>\n",
              "      <td>Its like I using ghost...it keeps scrolling pa...</td>\n",
              "      <td>Negative</td>\n",
              "      <td>-0.275000</td>\n",
              "      <td>0.950000</td>\n",
              "    </tr>\n",
              "    <tr>\n",
              "      <th>2082</th>\n",
              "      <td>Adobe Acrobat Reader</td>\n",
              "      <td>Adobe removed option saving changes pdfs local...</td>\n",
              "      <td>Negative</td>\n",
              "      <td>-0.087500</td>\n",
              "      <td>0.520833</td>\n",
              "    </tr>\n",
              "    <tr>\n",
              "      <th>2086</th>\n",
              "      <td>Adobe Acrobat Reader</td>\n",
              "      <td>If wish EXPORT, give birthdate!!!! What? A mob...</td>\n",
              "      <td>Negative</td>\n",
              "      <td>-0.125000</td>\n",
              "      <td>0.500000</td>\n",
              "    </tr>\n",
              "    <tr>\n",
              "      <th>2087</th>\n",
              "      <td>Adobe Acrobat Reader</td>\n",
              "      <td>Does exactly PC based version.Brilliant! At la...</td>\n",
              "      <td>Negative</td>\n",
              "      <td>-0.229167</td>\n",
              "      <td>0.438889</td>\n",
              "    </tr>\n",
              "    <tr>\n",
              "      <th>2090</th>\n",
              "      <td>Adobe Acrobat Reader</td>\n",
              "      <td>This sux saves cloud. Unless im missing someth...</td>\n",
              "      <td>Negative</td>\n",
              "      <td>-0.200000</td>\n",
              "      <td>0.050000</td>\n",
              "    </tr>\n",
              "    <tr>\n",
              "      <th>2093</th>\n",
              "      <td>Adobe Acrobat Reader</td>\n",
              "      <td>Stupid app. Whenever I open pdf file making co...</td>\n",
              "      <td>Negative</td>\n",
              "      <td>-0.106250</td>\n",
              "      <td>0.718750</td>\n",
              "    </tr>\n",
              "    <tr>\n",
              "      <th>2095</th>\n",
              "      <td>Adobe Acrobat Reader</td>\n",
              "      <td>This almost everything I need pdfs unfortunate...</td>\n",
              "      <td>Negative</td>\n",
              "      <td>-0.062500</td>\n",
              "      <td>0.558333</td>\n",
              "    </tr>\n",
              "    <tr>\n",
              "      <th>2096</th>\n",
              "      <td>Adobe Acrobat Reader</td>\n",
              "      <td>It good app. But problem unable share photos i...</td>\n",
              "      <td>Negative</td>\n",
              "      <td>-0.100000</td>\n",
              "      <td>0.533333</td>\n",
              "    </tr>\n",
              "    <tr>\n",
              "      <th>2105</th>\n",
              "      <td>Adobe Acrobat Reader</td>\n",
              "      <td>Apparently I log view pdf... Idiotic</td>\n",
              "      <td>Negative</td>\n",
              "      <td>-0.308333</td>\n",
              "      <td>0.591667</td>\n",
              "    </tr>\n",
              "    <tr>\n",
              "      <th>2108</th>\n",
              "      <td>Adobe Acrobat Reader</td>\n",
              "      <td>Very little usefulness keep getting messages r...</td>\n",
              "      <td>Negative</td>\n",
              "      <td>-0.464844</td>\n",
              "      <td>0.425000</td>\n",
              "    </tr>\n",
              "    <tr>\n",
              "      <th>2114</th>\n",
              "      <td>Adobe Acrobat Reader</td>\n",
              "      <td>Can't rename documents latest update. Using An...</td>\n",
              "      <td>Negative</td>\n",
              "      <td>-0.250000</td>\n",
              "      <td>0.933333</td>\n",
              "    </tr>\n",
              "  </tbody>\n",
              "</table>\n",
              "</div>\n",
              "      <button class=\"colab-df-convert\" onclick=\"convertToInteractive('df-4e585221-8188-440f-9b29-e8285326858d')\"\n",
              "              title=\"Convert this dataframe to an interactive table.\"\n",
              "              style=\"display:none;\">\n",
              "        \n",
              "  <svg xmlns=\"http://www.w3.org/2000/svg\" height=\"24px\"viewBox=\"0 0 24 24\"\n",
              "       width=\"24px\">\n",
              "    <path d=\"M0 0h24v24H0V0z\" fill=\"none\"/>\n",
              "    <path d=\"M18.56 5.44l.94 2.06.94-2.06 2.06-.94-2.06-.94-.94-2.06-.94 2.06-2.06.94zm-11 1L8.5 8.5l.94-2.06 2.06-.94-2.06-.94L8.5 2.5l-.94 2.06-2.06.94zm10 10l.94 2.06.94-2.06 2.06-.94-2.06-.94-.94-2.06-.94 2.06-2.06.94z\"/><path d=\"M17.41 7.96l-1.37-1.37c-.4-.4-.92-.59-1.43-.59-.52 0-1.04.2-1.43.59L10.3 9.45l-7.72 7.72c-.78.78-.78 2.05 0 2.83L4 21.41c.39.39.9.59 1.41.59.51 0 1.02-.2 1.41-.59l7.78-7.78 2.81-2.81c.8-.78.8-2.07 0-2.86zM5.41 20L4 18.59l7.72-7.72 1.47 1.35L5.41 20z\"/>\n",
              "  </svg>\n",
              "      </button>\n",
              "      \n",
              "  <style>\n",
              "    .colab-df-container {\n",
              "      display:flex;\n",
              "      flex-wrap:wrap;\n",
              "      gap: 12px;\n",
              "    }\n",
              "\n",
              "    .colab-df-convert {\n",
              "      background-color: #E8F0FE;\n",
              "      border: none;\n",
              "      border-radius: 50%;\n",
              "      cursor: pointer;\n",
              "      display: none;\n",
              "      fill: #1967D2;\n",
              "      height: 32px;\n",
              "      padding: 0 0 0 0;\n",
              "      width: 32px;\n",
              "    }\n",
              "\n",
              "    .colab-df-convert:hover {\n",
              "      background-color: #E2EBFA;\n",
              "      box-shadow: 0px 1px 2px rgba(60, 64, 67, 0.3), 0px 1px 3px 1px rgba(60, 64, 67, 0.15);\n",
              "      fill: #174EA6;\n",
              "    }\n",
              "\n",
              "    [theme=dark] .colab-df-convert {\n",
              "      background-color: #3B4455;\n",
              "      fill: #D2E3FC;\n",
              "    }\n",
              "\n",
              "    [theme=dark] .colab-df-convert:hover {\n",
              "      background-color: #434B5C;\n",
              "      box-shadow: 0px 1px 3px 1px rgba(0, 0, 0, 0.15);\n",
              "      filter: drop-shadow(0px 1px 2px rgba(0, 0, 0, 0.3));\n",
              "      fill: #FFFFFF;\n",
              "    }\n",
              "  </style>\n",
              "\n",
              "      <script>\n",
              "        const buttonEl =\n",
              "          document.querySelector('#df-4e585221-8188-440f-9b29-e8285326858d button.colab-df-convert');\n",
              "        buttonEl.style.display =\n",
              "          google.colab.kernel.accessAllowed ? 'block' : 'none';\n",
              "\n",
              "        async function convertToInteractive(key) {\n",
              "          const element = document.querySelector('#df-4e585221-8188-440f-9b29-e8285326858d');\n",
              "          const dataTable =\n",
              "            await google.colab.kernel.invokeFunction('convertToInteractive',\n",
              "                                                     [key], {});\n",
              "          if (!dataTable) return;\n",
              "\n",
              "          const docLinkHtml = 'Like what you see? Visit the ' +\n",
              "            '<a target=\"_blank\" href=https://colab.research.google.com/notebooks/data_table.ipynb>data table notebook</a>'\n",
              "            + ' to learn more about interactive tables.';\n",
              "          element.innerHTML = '';\n",
              "          dataTable['output_type'] = 'display_data';\n",
              "          await google.colab.output.renderOutput(dataTable, element);\n",
              "          const docLink = document.createElement('div');\n",
              "          docLink.innerHTML = docLinkHtml;\n",
              "          element.appendChild(docLink);\n",
              "        }\n",
              "      </script>\n",
              "    </div>\n",
              "  </div>\n",
              "  "
            ]
          },
          "metadata": {},
          "execution_count": 87
        }
      ]
    },
    {
      "cell_type": "markdown",
      "source": [
        "**3.subtask 3: exporting as a .csv file**"
      ],
      "metadata": {
        "id": "uTAhe9gEW8LW"
      }
    },
    {
      "cell_type": "code",
      "source": [
        "apps.to_csv('cleaned_playstore_apps.csv')"
      ],
      "metadata": {
        "id": "La3JN33AWphJ"
      },
      "execution_count": null,
      "outputs": []
    },
    {
      "cell_type": "code",
      "source": [
        "def is_ascii(s):\n",
        "    return all(ord(c) < 128 for c in s)"
      ],
      "metadata": {
        "id": "ceLg2uhXCu9A"
      },
      "execution_count": null,
      "outputs": []
    },
    {
      "cell_type": "code",
      "source": [
        "is_ascii(i)"
      ],
      "metadata": {
        "colab": {
          "base_uri": "https://localhost:8080/"
        },
        "id": "Y33jreHFDA76",
        "outputId": "1fa040cd-6e11-4fa2-e02f-d12d438a0420"
      },
      "execution_count": null,
      "outputs": [
        {
          "output_type": "execute_result",
          "data": {
            "text/plain": [
              "True"
            ]
          },
          "metadata": {},
          "execution_count": 44
        }
      ]
    },
    {
      "cell_type": "code",
      "source": [
        "ascii=[]\n",
        "for i in reviews['Translated_Review']:\n",
        "    ascii.append(i.encode('utf-8').decode('ascii', errors='ignore'))"
      ],
      "metadata": {
        "id": "eZgizR69CTRL"
      },
      "execution_count": null,
      "outputs": []
    },
    {
      "cell_type": "code",
      "source": [
        "reviews['Translated_Review'] = ascii"
      ],
      "metadata": {
        "id": "UtM2PpxFDSNt"
      },
      "execution_count": null,
      "outputs": []
    },
    {
      "cell_type": "code",
      "source": [
        "reviews.to_csv('cleaned_playstore_reviews.csv')"
      ],
      "metadata": {
        "id": "magVjiERXpEO"
      },
      "execution_count": null,
      "outputs": []
    },
    {
      "cell_type": "code",
      "source": [
        "df =  pd.read_csv('cleaned_playstore_reviews.csv')\n",
        "df.shape"
      ],
      "metadata": {
        "colab": {
          "base_uri": "https://localhost:8080/"
        },
        "id": "VTMm4dE2HmUr",
        "outputId": "13d75d66-509b-4493-a560-855aa56b10bb"
      },
      "execution_count": null,
      "outputs": [
        {
          "output_type": "execute_result",
          "data": {
            "text/plain": [
              "(27994, 5)"
            ]
          },
          "metadata": {},
          "execution_count": 54
        }
      ]
    },
    {
      "cell_type": "code",
      "source": [
        "for i in df['Translated_Review']:\n",
        "    if not is_ascii(i):\n",
        "        print(i)"
      ],
      "metadata": {
        "id": "5Iy4a97vHsT6"
      },
      "execution_count": null,
      "outputs": []
    },
    {
      "cell_type": "code",
      "source": [
        "supernote_review=reviews[reviews[\"App\"] == 'ASUS SuperNote']"
      ],
      "metadata": {
        "id": "xZjmd5HQHvyP"
      },
      "execution_count": null,
      "outputs": []
    },
    {
      "cell_type": "code",
      "source": [
        "supernote_review= supernote_review[supernote_review[\"Sentiment_Polarity\"] == 1]"
      ],
      "metadata": {
        "id": "K12m2sR9mGiw"
      },
      "execution_count": null,
      "outputs": []
    },
    {
      "cell_type": "code",
      "source": [
        "supernote_review= supernote_review[supernote_review[\"Sentiment_Subjectivity\"] == 1]"
      ],
      "metadata": {
        "id": "kYWobOWwmTCw"
      },
      "execution_count": null,
      "outputs": []
    },
    {
      "cell_type": "code",
      "source": [
        "supernote_review"
      ],
      "metadata": {
        "colab": {
          "base_uri": "https://localhost:8080/",
          "height": 81
        },
        "id": "Ea2elL16mVo5",
        "outputId": "69ef5c41-ced2-4281-f22f-d2f3ccb29546"
      },
      "execution_count": null,
      "outputs": [
        {
          "output_type": "execute_result",
          "data": {
            "text/plain": [
              "                 App Translated_Review Sentiment  Sentiment_Polarity  \\\n",
              "1622  ASUS SuperNote       Awesome!!!!  Positive                 1.0   \n",
              "\n",
              "      Sentiment_Subjectivity  \n",
              "1622                     1.0  "
            ],
            "text/html": [
              "\n",
              "  <div id=\"df-b99f8c11-e369-4dfc-9ec1-224055c14793\">\n",
              "    <div class=\"colab-df-container\">\n",
              "      <div>\n",
              "<style scoped>\n",
              "    .dataframe tbody tr th:only-of-type {\n",
              "        vertical-align: middle;\n",
              "    }\n",
              "\n",
              "    .dataframe tbody tr th {\n",
              "        vertical-align: top;\n",
              "    }\n",
              "\n",
              "    .dataframe thead th {\n",
              "        text-align: right;\n",
              "    }\n",
              "</style>\n",
              "<table border=\"1\" class=\"dataframe\">\n",
              "  <thead>\n",
              "    <tr style=\"text-align: right;\">\n",
              "      <th></th>\n",
              "      <th>App</th>\n",
              "      <th>Translated_Review</th>\n",
              "      <th>Sentiment</th>\n",
              "      <th>Sentiment_Polarity</th>\n",
              "      <th>Sentiment_Subjectivity</th>\n",
              "    </tr>\n",
              "  </thead>\n",
              "  <tbody>\n",
              "    <tr>\n",
              "      <th>1622</th>\n",
              "      <td>ASUS SuperNote</td>\n",
              "      <td>Awesome!!!!</td>\n",
              "      <td>Positive</td>\n",
              "      <td>1.0</td>\n",
              "      <td>1.0</td>\n",
              "    </tr>\n",
              "  </tbody>\n",
              "</table>\n",
              "</div>\n",
              "      <button class=\"colab-df-convert\" onclick=\"convertToInteractive('df-b99f8c11-e369-4dfc-9ec1-224055c14793')\"\n",
              "              title=\"Convert this dataframe to an interactive table.\"\n",
              "              style=\"display:none;\">\n",
              "        \n",
              "  <svg xmlns=\"http://www.w3.org/2000/svg\" height=\"24px\"viewBox=\"0 0 24 24\"\n",
              "       width=\"24px\">\n",
              "    <path d=\"M0 0h24v24H0V0z\" fill=\"none\"/>\n",
              "    <path d=\"M18.56 5.44l.94 2.06.94-2.06 2.06-.94-2.06-.94-.94-2.06-.94 2.06-2.06.94zm-11 1L8.5 8.5l.94-2.06 2.06-.94-2.06-.94L8.5 2.5l-.94 2.06-2.06.94zm10 10l.94 2.06.94-2.06 2.06-.94-2.06-.94-.94-2.06-.94 2.06-2.06.94z\"/><path d=\"M17.41 7.96l-1.37-1.37c-.4-.4-.92-.59-1.43-.59-.52 0-1.04.2-1.43.59L10.3 9.45l-7.72 7.72c-.78.78-.78 2.05 0 2.83L4 21.41c.39.39.9.59 1.41.59.51 0 1.02-.2 1.41-.59l7.78-7.78 2.81-2.81c.8-.78.8-2.07 0-2.86zM5.41 20L4 18.59l7.72-7.72 1.47 1.35L5.41 20z\"/>\n",
              "  </svg>\n",
              "      </button>\n",
              "      \n",
              "  <style>\n",
              "    .colab-df-container {\n",
              "      display:flex;\n",
              "      flex-wrap:wrap;\n",
              "      gap: 12px;\n",
              "    }\n",
              "\n",
              "    .colab-df-convert {\n",
              "      background-color: #E8F0FE;\n",
              "      border: none;\n",
              "      border-radius: 50%;\n",
              "      cursor: pointer;\n",
              "      display: none;\n",
              "      fill: #1967D2;\n",
              "      height: 32px;\n",
              "      padding: 0 0 0 0;\n",
              "      width: 32px;\n",
              "    }\n",
              "\n",
              "    .colab-df-convert:hover {\n",
              "      background-color: #E2EBFA;\n",
              "      box-shadow: 0px 1px 2px rgba(60, 64, 67, 0.3), 0px 1px 3px 1px rgba(60, 64, 67, 0.15);\n",
              "      fill: #174EA6;\n",
              "    }\n",
              "\n",
              "    [theme=dark] .colab-df-convert {\n",
              "      background-color: #3B4455;\n",
              "      fill: #D2E3FC;\n",
              "    }\n",
              "\n",
              "    [theme=dark] .colab-df-convert:hover {\n",
              "      background-color: #434B5C;\n",
              "      box-shadow: 0px 1px 3px 1px rgba(0, 0, 0, 0.15);\n",
              "      filter: drop-shadow(0px 1px 2px rgba(0, 0, 0, 0.3));\n",
              "      fill: #FFFFFF;\n",
              "    }\n",
              "  </style>\n",
              "\n",
              "      <script>\n",
              "        const buttonEl =\n",
              "          document.querySelector('#df-b99f8c11-e369-4dfc-9ec1-224055c14793 button.colab-df-convert');\n",
              "        buttonEl.style.display =\n",
              "          google.colab.kernel.accessAllowed ? 'block' : 'none';\n",
              "\n",
              "        async function convertToInteractive(key) {\n",
              "          const element = document.querySelector('#df-b99f8c11-e369-4dfc-9ec1-224055c14793');\n",
              "          const dataTable =\n",
              "            await google.colab.kernel.invokeFunction('convertToInteractive',\n",
              "                                                     [key], {});\n",
              "          if (!dataTable) return;\n",
              "\n",
              "          const docLinkHtml = 'Like what you see? Visit the ' +\n",
              "            '<a target=\"_blank\" href=https://colab.research.google.com/notebooks/data_table.ipynb>data table notebook</a>'\n",
              "            + ' to learn more about interactive tables.';\n",
              "          element.innerHTML = '';\n",
              "          dataTable['output_type'] = 'display_data';\n",
              "          await google.colab.output.renderOutput(dataTable, element);\n",
              "          const docLink = document.createElement('div');\n",
              "          docLink.innerHTML = docLinkHtml;\n",
              "          element.appendChild(docLink);\n",
              "        }\n",
              "      </script>\n",
              "    </div>\n",
              "  </div>\n",
              "  "
            ]
          },
          "metadata": {},
          "execution_count": 71
        }
      ]
    },
    {
      "cell_type": "code",
      "source": [],
      "metadata": {
        "id": "eyzRskoMmgiZ"
      },
      "execution_count": null,
      "outputs": []
    }
  ]
}